{
 "cells": [
  {
   "cell_type": "code",
   "execution_count": 5,
   "metadata": {},
   "outputs": [
    {
     "name": "stdout",
     "output_type": "stream",
     "text": [
      "n_samples: 2000\n",
      "0 params - {'vect__ngram_range': (1, 1)}; mean - 0.80; std - 0.01\n",
      "1 params - {'vect__ngram_range': (1, 2)}; mean - 0.82; std - 0.01\n",
      "             precision    recall  f1-score   support\n",
      "\n",
      "        neg       0.87      0.77      0.82       250\n",
      "        pos       0.79      0.88      0.84       250\n",
      "\n",
      "avg / total       0.83      0.83      0.83       500\n",
      "\n",
      "[[192  58]\n",
      " [ 29 221]]\n"
     ]
    }
   ],
   "source": [
    "%run /Users/kyleporter/Desktop/ASTR480/all_scikit/doc/tutorial/text_analytics/sklearn_tut_workspace/exercise_02_sentiment.py /Users/kyleporter/Desktop/ASTR480/all_scikit/doc/tutorial/text_analytics/data/movie_reviews/txt_sentoken/\n",
    "\n"
   ]
  },
  {
   "cell_type": "code",
   "execution_count": 3,
   "metadata": {},
   "outputs": [
    {
     "name": "stdout",
     "output_type": "stream",
     "text": [
      "/Users/kyleporter/Desktop/ASTR480/all_scikit/doc/tutorial/text_analytics\n"
     ]
    }
   ],
   "source": [
    "cd  /Users/kyleporter/Desktop/ASTR480/all_scikit/doc/tutorial/text_analytics/"
   ]
  },
  {
   "cell_type": "code",
   "execution_count": 4,
   "metadata": {},
   "outputs": [
    {
     "name": "stdout",
     "output_type": "stream",
     "text": [
      "\u001b[34mdata\u001b[m\u001b[m/                       \u001b[34msolutions\u001b[m\u001b[m/\r\n",
      "\u001b[34mskeletons\u001b[m\u001b[m/                  working_with_text_data.rst\r\n",
      "\u001b[34msklearn_tut_workspace\u001b[m\u001b[m/\r\n"
     ]
    }
   ],
   "source": [
    "ls"
   ]
  },
  {
   "cell_type": "code",
   "execution_count": null,
   "metadata": {},
   "outputs": [],
   "source": []
  }
 ],
 "metadata": {
  "kernelspec": {
   "display_name": "Python 3",
   "language": "python",
   "name": "python3"
  }
 },
 "nbformat": 4,
 "nbformat_minor": 2
}
