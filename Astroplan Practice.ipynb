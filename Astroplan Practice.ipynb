{
 "cells": [
  {
   "cell_type": "code",
   "execution_count": 6,
   "metadata": {},
   "outputs": [],
   "source": [
    "%matplotlib inline\n",
    "import matplotlib.pyplot as plt\n",
    "\n",
    "import numpy as np\n",
    "import pandas as pd\n",
    "\n",
    "import astropy.units as u\n",
    "from astropy.time import Time\n",
    "from astropy.coordinates import SkyCoord\n",
    "import pytz\n",
    "\n",
    "from astroplan.plots import plot_sky, plot_airmass\n",
    "from astroplan import Observer, FixedTarget, time_grid_from_range, observability_table, moon_illumination\n",
    "from astroplan import AirmassConstraint, MoonSeparationConstraint"
   ]
  },
  {
   "cell_type": "code",
   "execution_count": 7,
   "metadata": {},
   "outputs": [],
   "source": [
    "apache = Observer(longitude = 105.8202778 * u.deg,\n",
    "                    latitude = 32.78027778 * u.deg,\n",
    "                    timezone = 'US/Mountain',\n",
    "                    name = 'Apache Point')"
   ]
  },
  {
   "cell_type": "code",
   "execution_count": 19,
   "metadata": {
    "collapsed": true
   },
   "outputs": [],
   "source": [
    "target = [FixedTarget(coord=SkyCoord(ra = 0.712313889*u.hourangle, dec = 41.26875*u.deg), name='M31')]"
   ]
  },
  {
   "cell_type": "code",
   "execution_count": 20,
   "metadata": {},
   "outputs": [
    {
     "data": {
      "text/plain": [
       "[<FixedTarget \"M31\" at SkyCoord (ICRS): (ra, dec) in deg ( 10.68470833,  41.26875)>]"
      ]
     },
     "execution_count": 20,
     "metadata": {},
     "output_type": "execute_result"
    }
   ],
   "source": [
    "target"
   ]
  },
  {
   "cell_type": "code",
   "execution_count": 44,
   "metadata": {},
   "outputs": [
    {
     "name": "stderr",
     "output_type": "stream",
     "text": [
      "WARNING: OldEarthOrientationDataWarning: For best precision (on the order of arcseconds), you must download an up-to-date IERS Bulletin A table. To do so, run:\n",
      "\n",
      ">>> from astroplan import download_IERS_A\n",
      ">>> download_IERS_A()\n",
      " [astroplan.utils]\n"
     ]
    },
    {
     "data": {
      "text/latex": [
       "$8.7100793 \\; \\mathrm{h}$"
      ],
      "text/plain": [
       "<Quantity 8.71007925644517 h>"
      ]
     },
     "execution_count": 44,
     "metadata": {},
     "output_type": "execute_result"
    }
   ],
   "source": [
    "reference_time = Time(\"2018-03-31 12:00:00\")\n",
    "end_time = Time(\"2018-04-01 12:00:00\")\n",
    "\n",
    "twilight_apache = apache.twilight_evening_astronomical(reference_time, which='nearest')\n",
    "twilight_end_apache = apache.twilight_morning_astronomical(reference_time, which='next')\n",
    "apache_observing_length = (twilight_end_apache - twilight_apache).to(u.h)\n",
    "apache_observing_length"
   ]
  },
  {
   "cell_type": "code",
   "execution_count": 70,
   "metadata": {},
   "outputs": [
    {
     "name": "stderr",
     "output_type": "stream",
     "text": [
      "WARNING: OldEarthOrientationDataWarning: For best precision (on the order of arcseconds), you must download an up-to-date IERS Bulletin A table. To do so, run:\n",
      "\n",
      ">>> from astroplan import download_IERS_A\n",
      ">>> download_IERS_A()\n",
      " [astroplan.utils]\n"
     ]
    },
    {
     "name": "stdout",
     "output_type": "stream",
     "text": [
      "11.044439010322096 h\n"
     ]
    },
    {
     "data": {
      "text/latex": [
       "$2.0217874 \\; \\mathrm{rad}$"
      ],
      "text/plain": [
       "<Quantity 2.0217873668494173 rad>"
      ]
     },
     "execution_count": 70,
     "metadata": {},
     "output_type": "execute_result"
    }
   ],
   "source": [
    "reference12_time = Time(\"2018-12-31 12:00:00\")\n",
    "end12_time = Time(\"2019-01-01 12:00:00\")\n",
    "\n",
    "window_range = [reference12_time, end12_time]\n",
    "window_time_grid = time_grid_from_range(window_range)\n",
    "\n",
    "twilight_12apache = apache.twilight_evening_astronomical(reference12_time, which='nearest')\n",
    "twilight_end_12apache = apache.twilight_morning_astronomical(reference12_time, which='next')\n",
    "apache_12observing_length = (twilight_end_12apache - twilight_12apache).to(u.h)\n",
    "print(apache_12observing_length)\n",
    "\n",
    "apache.moon_phase(reference12_time) #phase = 2*pi is new moon. phase = 0 is full"
   ]
  },
  {
   "cell_type": "code",
   "execution_count": 65,
   "metadata": {},
   "outputs": [
    {
     "name": "stdout",
     "output_type": "stream",
     "text": [
      "2458483.9780593943\n"
     ]
    }
   ],
   "source": [
    "apache_observing_range = [twilight_12apache, twilight_end_12apache]\n",
    "apache_observing_range\n",
    "print(apache_observing_range[0])"
   ]
  },
  {
   "cell_type": "code",
   "execution_count": 66,
   "metadata": {},
   "outputs": [
    {
     "name": "stdout",
     "output_type": "stream",
     "text": [
      "target name ever observable always observable fraction of time observable\n",
      "----------- --------------- ----------------- ---------------------------\n",
      "        M31            True             False              0.434782608696\n"
     ]
    }
   ],
   "source": [
    "constraints = [AirmassConstraint(2), MoonSeparationConstraint(35*u.deg)]\n",
    "\n",
    "apache_observing_table = observability_table(constraints, apache, target, time_range=apache_observing_range)\n",
    "\n",
    "print(apache_observing_table) #Passes moon separation constraint. "
   ]
  },
  {
   "cell_type": "code",
   "execution_count": 67,
   "metadata": {},
   "outputs": [
    {
     "name": "stdout",
     "output_type": "stream",
     "text": [
      "2018-12-31 11:28:24.331666\n",
      "2018-12-31 22:31:04.312103\n",
      "You can observe M31 for 3.79 h\n"
     ]
    },
    {
     "data": {
      "image/png": "[encoded data removed]",
      "text/plain": [
       "<matplotlib.figure.Figure at 0x117898240>"
      ]
     },
     "metadata": {},
     "output_type": "display_data"
    }
   ],
   "source": [
    "fig,ax = plt.subplots(1,1)\n",
    "fig.set_size_inches(10,5)\n",
    "\n",
    "fig.tight_layout()\n",
    "\n",
    "print(twilight_12apache.datetime)\n",
    "print(twilight_end_12apache.datetime)\n",
    "\n",
    "for i, my_object in enumerate(target):\n",
    "\n",
    "    if apache_observing_table['ever observable'][i]:  # Sees true or false\n",
    "        ax = plot_airmass(my_object, apache, window_time_grid, max_airmass=2.0)\n",
    "        name = apache_observing_table['target name'][i]\n",
    "        obj_frac = apache_observing_table['fraction of time observable'][i]\n",
    "        obj_time = obj_frac * apache_observing_length\n",
    "        output = \"You can observe {0:s} for {1:.2f}\".format(name, obj_time.to(u.h))\n",
    "        print(output)\n",
    "\n",
    "ax.vlines(twilight_12apache.datetime, 1,3, color='r', linewidth=5)\n",
    "ax.vlines(twilight_end_12apache.datetime, 1,3, color='r', linewidth=5)\n",
    "\n",
    "ax.legend(loc=0,shadow=True);"
   ]
  },
  {
   "cell_type": "markdown",
   "metadata": {},
   "source": [
    "# Planetary Nebula"
   ]
  },
  {
   "cell_type": "code",
   "execution_count": 74,
   "metadata": {},
   "outputs": [],
   "source": [
    "ctio = Observer(longitude = 70.804 * u.deg,\n",
    "                    latitude = -30.169 * u.deg,\n",
    "                    timezone = 'Etc/GMT+3',\n",
    "                    name = 'CTIO')"
   ]
  },
  {
   "cell_type": "code",
   "execution_count": 84,
   "metadata": {
    "collapsed": true
   },
   "outputs": [],
   "source": [
    "ic418 = [FixedTarget(coord=SkyCoord(ra = 5.45783436*u.hourangle, dec = -12.68811111*u.deg), name='IC 418')]"
   ]
  },
  {
   "cell_type": "code",
   "execution_count": 77,
   "metadata": {},
   "outputs": [
    {
     "name": "stderr",
     "output_type": "stream",
     "text": [
      "WARNING: OldEarthOrientationDataWarning: For best precision (on the order of arcseconds), you must download an up-to-date IERS Bulletin A table. To do so, run:\n",
      "\n",
      ">>> from astroplan import download_IERS_A\n",
      ">>> download_IERS_A()\n",
      " [astroplan.utils]\n"
     ]
    },
    {
     "data": {
      "text/latex": [
       "$9.5570935 \\; \\mathrm{h}$"
      ],
      "text/plain": [
       "<Quantity 9.557093549519777 h>"
      ]
     },
     "execution_count": 77,
     "metadata": {},
     "output_type": "execute_result"
    }
   ],
   "source": [
    "ctioreference_time = Time(\"2018-03-31 12:00:00\")\n",
    "ctioend_time = Time(\"2018-04-01 12:00:00\")\n",
    "\n",
    "twilight_ctio = ctio.twilight_evening_astronomical(ctioreference_time, which='nearest')\n",
    "twilight_end_ctio = ctio.twilight_morning_astronomical(ctioreference_time, which='next')\n",
    "ctio_observing_length = (twilight_end_ctio - twilight_ctio).to(u.h)\n",
    "ctio_observing_length"
   ]
  },
  {
   "cell_type": "code",
   "execution_count": 83,
   "metadata": {},
   "outputs": [
    {
     "name": "stderr",
     "output_type": "stream",
     "text": [
      "WARNING: OldEarthOrientationDataWarning: For best precision (on the order of arcseconds), you must download an up-to-date IERS Bulletin A table. To do so, run:\n",
      "\n",
      ">>> from astroplan import download_IERS_A\n",
      ">>> download_IERS_A()\n",
      " [astroplan.utils]\n"
     ]
    },
    {
     "name": "stdout",
     "output_type": "stream",
     "text": [
      "11.044439010322096 h\n"
     ]
    },
    {
     "data": {
      "text/latex": [
       "$2.0217874 \\; \\mathrm{rad}$"
      ],
      "text/plain": [
       "<Quantity 2.0217873668494173 rad>"
      ]
     },
     "execution_count": 83,
     "metadata": {},
     "output_type": "execute_result"
    }
   ],
   "source": [
    "ctioreference12_time = Time(\"2018-12-31 12:00:00\")\n",
    "ctioend12_time = Time(\"2019-01-01 12:00:00\")\n",
    "\n",
    "window_range = [ctioreference12_time, ctioend12_time]\n",
    "window_time_grid = time_grid_from_range(window_range)\n",
    "\n",
    "twilight_12ctio = apache.twilight_evening_astronomical(ctioreference12_time, which='nearest')\n",
    "twilight_end_12ctio = apache.twilight_morning_astronomical(ctioreference12_time, which='next')\n",
    "ctio_12observing_length = (twilight_end_12ctio - twilight_12ctio).to(u.h)\n",
    "print(ctio_12observing_length)\n",
    "\n",
    "ctio.moon_phase(ctioreference12_time) #phase = 2*pi is new moon. phase = 0 is full"
   ]
  },
  {
   "cell_type": "code",
   "execution_count": 81,
   "metadata": {},
   "outputs": [
    {
     "name": "stdout",
     "output_type": "stream",
     "text": [
      "2458483.9780593943\n"
     ]
    }
   ],
   "source": [
    "ctio_observing_range = [twilight_12ctio, twilight_end_12ctio]\n",
    "ctio_observing_range\n",
    "print(ctio_observing_range[0])"
   ]
  },
  {
   "cell_type": "code",
   "execution_count": 86,
   "metadata": {},
   "outputs": [
    {
     "name": "stdout",
     "output_type": "stream",
     "text": [
      "target name ever observable always observable fraction of time observable\n",
      "----------- --------------- ----------------- ---------------------------\n",
      "     IC 418            True             False              0.739130434783\n"
     ]
    }
   ],
   "source": [
    "constraints = [AirmassConstraint(2), MoonSeparationConstraint(35*u.deg)]\n",
    "\n",
    "ctio_observing_table = observability_table(constraints, ctio, ic418, time_range=apache_observing_range)\n",
    "\n",
    "print(ctio_observing_table) #Passes moon separation constraint. "
   ]
  },
  {
   "cell_type": "code",
   "execution_count": 87,
   "metadata": {},
   "outputs": [
    {
     "name": "stdout",
     "output_type": "stream",
     "text": [
      "2018-12-31 11:28:24.331666\n",
      "2018-12-31 22:31:04.312103\n",
      "You can observe IC 418 for 7.06 h\n"
     ]
    },
    {
     "data": {
      "image/png": "[encoded data removed]",
      "text/plain": [
       "<matplotlib.figure.Figure at 0x11e57c710>"
      ]
     },
     "metadata": {},
     "output_type": "display_data"
    }
   ],
   "source": [
    "fig,ax = plt.subplots(1,1)\n",
    "fig.set_size_inches(10,5)\n",
    "\n",
    "fig.tight_layout()\n",
    "\n",
    "print(twilight_12ctio.datetime)\n",
    "print(twilight_end_12ctio.datetime)\n",
    "\n",
    "for i, my_object in enumerate(ic418):\n",
    "\n",
    "    if ctio_observing_table['ever observable'][i]:  # Sees true or false\n",
    "        ax = plot_airmass(my_object, ctio, window_time_grid, max_airmass=2.0)\n",
    "        name = ctio_observing_table['target name'][i]\n",
    "        obj_frac = ctio_observing_table['fraction of time observable'][i]\n",
    "        obj_time = obj_frac * ctio_observing_length\n",
    "        output = \"You can observe {0:s} for {1:.2f}\".format(name, obj_time.to(u.h))\n",
    "        print(output)\n",
    "\n",
    "ax.vlines(twilight_12ctio.datetime, 1,3, color='r', linewidth=5)\n",
    "ax.vlines(twilight_end_12ctio.datetime, 1,3, color='r', linewidth=5)\n",
    "\n",
    "ax.legend(loc=0,shadow=True);"
   ]
  },
  {
   "cell_type": "code",
   "execution_count": null,
   "metadata": {
    "collapsed": true
   },
   "outputs": [],
   "source": []
  }
 ],
 "metadata": {
  "kernelspec": {
   "display_name": "Python 3",
   "language": "python",
   "name": "python3"
  },
  "language_info": {
   "codemirror_mode": {
    "name": "ipython",
    "version": 3
   },
   "file_extension": ".py",
   "mimetype": "text/x-python",
   "name": "python",
   "nbconvert_exporter": "python",
   "pygments_lexer": "ipython3",
   "version": "3.6.3"
  }
 },
 "nbformat": 4,
 "nbformat_minor": 2
}
