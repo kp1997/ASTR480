{
 "cells": [
  {
   "cell_type": "code",
   "execution_count": 256,
   "metadata": {},
   "outputs": [],
   "source": [
    "import matplotlib.pyplot as plt\n",
    "import numpy as np\n",
    "from astropy.io import fits\n",
    "from astropy.table import Table\n",
    "import glob"
   ]
  },
  {
   "cell_type": "code",
   "execution_count": 257,
   "metadata": {},
   "outputs": [
    {
     "name": "stderr",
     "output_type": "stream",
     "text": [
      "WARNING: VerifyWarning: Verification reported errors: [astropy.io.fits.verify]\n",
      "WARNING: VerifyWarning: Card 'OBS' is not FITS standard (invalid value string: 'AWO').  Fixed 'OBS' card to meet the FITS standard. [astropy.io.fits.verify]\n",
      "WARNING: VerifyWarning: Note: astropy.io.fits uses zero-based indexing.\n",
      " [astropy.io.fits.verify]\n",
      "WARNING: VerifyWarning: Card 'OBSERVER' is not FITS standard (invalid value string: 'SCCC').  Fixed 'OBSERVER' card to meet the FITS standard. [astropy.io.fits.verify]\n"
     ]
    },
    {
     "data": {
      "text/plain": [
       "SIMPLE  =                    T                                                  \n",
       "BITPIX  =                   16                                                  \n",
       "NAXIS   =                    2                                                  \n",
       "NAXIS1  =                 2184                                                  \n",
       "NAXIS2  =                 1472                                                  \n",
       "BSCALE  =                1.0E0                                                  \n",
       "BZERO   =            32768.0E0                                                  \n",
       "CCDFNAME= '480_2018_.Bias(0.0S0X1).71.fits'                                     \n",
       "PROGRAM = 'Equinox Image 1.10.2'                                                \n",
       "DATE-OBS= '2018-05-02T22:58:03.451'                                             \n",
       "INSTRUME= 'SBIG ST-10 3 CCD Camera'                                             \n",
       "EXPTIME = 0.120                                                                 \n",
       "CCD-TEMP= 0.2                                                                   \n",
       "IMAGETYP= 'Bias'                                                                \n",
       "CFWHEEL = 'CFW_8'                                                               \n",
       "FILTER  = 'Sky'                                                                 \n",
       "IMAGEBIN= '1X1'                                                                 \n",
       "XPIXSZ  = 6.80                                                                  \n",
       "YPIXSZ  = 6.80                                                                  \n",
       "CAMTYPE = 12                                                                    \n",
       "GUIDEPTX= 0.0                                                                   \n",
       "GUIDEPTY= 0.0                                                                   \n",
       "GDPIXSZ = 14.80                                                                 \n",
       "GDANGLE = 0                                                                     \n",
       "GUIDEBIN= '2X2'                                                                 \n",
       "AGEXP   = 0.000                                                                 \n",
       "AGFREQ  = 1.0                                                                   \n",
       "AGGAIN  = 1.0                                                                   \n",
       "OBS     = 'AWO     '                                                            \n",
       "OBSERVER= 'SCCC    '                                                            "
      ]
     },
     "execution_count": 257,
     "metadata": {},
     "output_type": "execute_result"
    }
   ],
   "source": [
    "fits.getheader(bias_list[2])"
   ]
  },
  {
   "cell_type": "code",
   "execution_count": 258,
   "metadata": {},
   "outputs": [],
   "source": [
    "bias_list = glob.glob(\"../480grp_Z/480_2018_.Bias*.fits\")\n",
    "flat_list = glob.glob(\"../480grp_Z/480_2018_.Flat*.fits\")"
   ]
  },
  {
   "cell_type": "code",
   "execution_count": 284,
   "metadata": {},
   "outputs": [],
   "source": [
    "bias_data = []\n",
    "bias_time = []\n",
    "flat_data = []\n",
    "flat_time = []\n",
    "for i in bias_list:\n",
    "    bias_data.append(np.median(fits.getdata(i)))\n",
    "    bias_time.append(fits.getheader(i)[\"EXPTIME\"])\n",
    "for i in flat_list:\n",
    "    flat_data.append(np.median(fits.getdata(i)))\n",
    "    flat_data.append(np.max(fits.getdata(i)))\n",
    "    flat_time.append(fits.getheader(i)[\"EXPTIME\"])"
   ]
  },
  {
   "cell_type": "code",
   "execution_count": 286,
   "metadata": {},
   "outputs": [
    {
     "data": {
      "text/plain": [
       "65535.0"
      ]
     },
     "execution_count": 286,
     "metadata": {},
     "output_type": "execute_result"
    }
   ],
   "source": [
    "np.max(flat_data)"
   ]
  },
  {
   "cell_type": "code",
   "execution_count": null,
   "metadata": {},
   "outputs": [],
   "source": []
  },
  {
   "cell_type": "code",
   "execution_count": 270,
   "metadata": {},
   "outputs": [
    {
     "data": {
      "image/png": "[encoded data removed]",
      "text/plain": [
       "<matplotlib.figure.Figure at 0x1113ef160>"
      ]
     },
     "metadata": {},
     "output_type": "display_data"
    }
   ],
   "source": [
    "fig, ax = plt.subplots()\n",
    "#ax.scatter(bias_time, bias_data)\n",
    "ax.scatter(flat_time, flat_data)\n",
    "plt.show()"
   ]
  },
  {
   "cell_type": "code",
   "execution_count": 271,
   "metadata": {},
   "outputs": [
    {
     "data": {
      "text/plain": [
       "['/Users/kyleporter/Desktop/ASTR480/480 ccd fits files/480grp_Z/480_2018_.Bias(0.0S0X1).70.fits',\n",
       " '/Users/kyleporter/Desktop/ASTR480/480 ccd fits files/480grp_Z/480_2018_.Bias(0.0S0X1).31.fits',\n",
       " '/Users/kyleporter/Desktop/ASTR480/480 ccd fits files/480grp_Z/480_2018_.Bias(0.0S0X1).71.fits',\n",
       " '/Users/kyleporter/Desktop/ASTR480/480 ccd fits files/480grp_Z/480_2018_.Bias(0.0S0X1).34.fits',\n",
       " '/Users/kyleporter/Desktop/ASTR480/480 ccd fits files/480grp_Z/480_2018_.Bias(0.0S0X1).33.fits']"
      ]
     },
     "execution_count": 271,
     "metadata": {},
     "output_type": "execute_result"
    }
   ],
   "source": [
    "bias2_list = glob.glob(\"/Users/kyleporter/Desktop/ASTR480/480 ccd fits files/480grp_Z/480_2018_.Bias*.fits\")\n",
    "flat2_list = glob.glob(\"/Users/kyleporter/Desktop/ASTR480/480 ccd fits files/480grp_Z/480_2018_.Flat*.fits\")\n",
    "bias2_list"
   ]
  },
  {
   "cell_type": "code",
   "execution_count": 272,
   "metadata": {},
   "outputs": [],
   "source": [
    "bias2_data = []\n",
    "bias2_time = []\n",
    "flat2_data = []\n",
    "flat2_time = []\n",
    "for i in bias2_list:\n",
    "    bias2_data.append(np.median(fits.getdata(i)))\n",
    "    bias2_time.append(fits.getheader(i)[\"EXPTIME\"])\n",
    "for i in flat2_list:\n",
    "    flat2_data.append(np.median(fits.getdata(i)))\n",
    "    flat2_time.append(fits.getheader(i)[\"EXPTIME\"])"
   ]
  },
  {
   "cell_type": "code",
   "execution_count": 273,
   "metadata": {},
   "outputs": [
    {
     "name": "stdout",
     "output_type": "stream",
     "text": [
      "[(1021.0, 0.12), (2249.0, 0.12), (3918.0, 0.12), (21072.0, 0.12), (44747.0, 0.12), (6260.0, 0.24), (1127.0, 0.25), (1098.0, 0.281), (1232.0, 0.5), (11824.0, 0.5), (1173.0, 0.563), (1338.0, 1.125), (1550.0, 2.0), (1565.0, 2.0), (57151.0, 3.456), (2154.0, 4.0), (3532.0, 9.0), (5139.0, 10.0), (6460.0, 18.0), (6591.0, 18.0), (13102.0, 30.0), (14984.0, 35.0), (11789.0, 36.0), (19464.0, 45.0), (18007.0, 54.0), (23458.0, 72.0), (27495.0, 90.0), (38890.0, 90.0), (38099.0, 120.0), (45832.0, 120.0), (40794.0, 126.0), (45451.0, 144.0), (56930.0, 162.0), (57192.0, 180.0)]\n",
      "[(1021.0, 0.12), (1127.0, 0.25), (1098.0, 0.281), (1232.0, 0.5), (1173.0, 0.563), (1338.0, 1.125), (1550.0, 2.0), (2154.0, 4.0), (3532.0, 9.0), (5139.0, 10.0), (6460.0, 18.0), (6591.0, 18.0), (13102.0, 30.0), (14984.0, 35.0), (11789.0, 36.0), (19464.0, 45.0), (18007.0, 54.0), (23458.0, 72.0), (27495.0, 90.0), (38890.0, 90.0), (38099.0, 120.0), (45832.0, 120.0), (40794.0, 126.0), (45451.0, 144.0), (56930.0, 162.0), (57192.0, 180.0)]\n"
     ]
    }
   ],
   "source": [
    "\n",
    "flat2 = []\n",
    "#flat2[0][1].sort(key=int)\n",
    "#flat2[0] = np.delete(flat2[0][1],1)\n",
    "#flat2\n",
    "\n",
    "for x in range(len(flat2_data)):\n",
    "    flat2.append((flat2_data[x], flat2_time[x]))\n",
    "\n",
    "\n",
    "flat2 = sorted(flat2 , key=lambda k: [k[1], k[0]])\n",
    "print(flat2)\n",
    "\n",
    "# Remove some bad data points we have\n",
    "del flat2[1]\n",
    "del flat2[1]\n",
    "del flat2[1]\n",
    "del flat2[1]\n",
    "del flat2[1]\n",
    "del flat2[4]\n",
    "del flat2[7]\n",
    "del flat2[7]\n",
    "print(flat2)\n"
   ]
  },
  {
   "cell_type": "code",
   "execution_count": 274,
   "metadata": {},
   "outputs": [
    {
     "data": {
      "text/plain": [
       "[(1021.0, 0.12),\n",
       " (1127.0, 0.25),\n",
       " (1098.0, 0.281),\n",
       " (1232.0, 0.5),\n",
       " (1173.0, 0.563),\n",
       " (1338.0, 1.125),\n",
       " (1550.0, 2.0),\n",
       " (2154.0, 4.0),\n",
       " (3532.0, 9.0),\n",
       " (5139.0, 10.0),\n",
       " (6460.0, 18.0),\n",
       " (6591.0, 18.0),\n",
       " (13102.0, 30.0),\n",
       " (14984.0, 35.0),\n",
       " (11789.0, 36.0),\n",
       " (19464.0, 45.0),\n",
       " (18007.0, 54.0),\n",
       " (23458.0, 72.0),\n",
       " (27495.0, 90.0),\n",
       " (38890.0, 90.0),\n",
       " (38099.0, 120.0),\n",
       " (45832.0, 120.0),\n",
       " (40794.0, 126.0),\n",
       " (45451.0, 144.0),\n",
       " (56930.0, 162.0),\n",
       " (57192.0, 180.0)]"
      ]
     },
     "execution_count": 274,
     "metadata": {},
     "output_type": "execute_result"
    }
   ],
   "source": [
    "flat2"
   ]
  },
  {
   "cell_type": "code",
   "execution_count": 275,
   "metadata": {},
   "outputs": [
    {
     "name": "stdout",
     "output_type": "stream",
     "text": [
      "[1021.0, 1127.0, 1098.0, 1232.0, 1173.0, 1338.0, 1550.0, 2154.0, 3532.0, 5139.0, 6460.0, 6591.0, 13102.0, 14984.0, 11789.0, 19464.0, 18007.0, 23458.0, 27495.0, 38890.0, 38099.0, 45832.0, 40794.0, 45451.0, 56930.0, 57192.0]\n",
      "[0.12, 0.25, 0.281, 0.5, 0.563, 1.125, 2.0, 4.0, 9.0, 10.0, 18.0, 18.0, 30.0, 35.0, 36.0, 45.0, 54.0, 72.0, 90.0, 90.0, 120.0, 120.0, 126.0, 144.0, 162.0, 180.0]\n"
     ]
    }
   ],
   "source": [
    "x = []\n",
    "y = []\n",
    "for i in range(len(flat2)):\n",
    "    x.append(flat2[i][0])\n",
    "    y.append(flat2[i][1])\n",
    "print(x)\n",
    "print(y)"
   ]
  },
  {
   "cell_type": "code",
   "execution_count": 276,
   "metadata": {},
   "outputs": [
    {
     "data": {
      "image/png": "[encoded data removed]",
      "text/plain": [
       "<matplotlib.figure.Figure at 0x12bc38d68>"
      ]
     },
     "metadata": {},
     "output_type": "display_data"
    }
   ],
   "source": [
    "fig, ax = plt.subplots()\n",
    "#ax.scatter(bias2_time, bias2_data)\n",
    "ax.plot(y, x)\n",
    "plt.show()"
   ]
  },
  {
   "cell_type": "code",
   "execution_count": 277,
   "metadata": {},
   "outputs": [],
   "source": [
    "from astropy.table import Table\n",
    "\n",
    "t = Table([y, x], names=('Exposure Time (seconds)', 'Counts (ADUs)'), meta={'name': 'first table'})"
   ]
  },
  {
   "cell_type": "code",
   "execution_count": 279,
   "metadata": {},
   "outputs": [
    {
     "data": {
      "text/html": [
       "&lt;Table length=26&gt;\n",
       "<table id=\"table4582136016-988521\" class=\"table-striped table-bordered table-condensed\">\n",
       "<thead><tr><th>idx</th><th>Exposure Time (seconds)</th><th>Counts (ADUs)</th></tr></thead>\n",
       "<tr><td>0</td><td>0.12</td><td>1021.0</td></tr>\n",
       "<tr><td>1</td><td>0.25</td><td>1127.0</td></tr>\n",
       "<tr><td>2</td><td>0.281</td><td>1098.0</td></tr>\n",
       "<tr><td>3</td><td>0.5</td><td>1232.0</td></tr>\n",
       "<tr><td>4</td><td>0.563</td><td>1173.0</td></tr>\n",
       "<tr><td>5</td><td>1.125</td><td>1338.0</td></tr>\n",
       "<tr><td>6</td><td>2.0</td><td>1550.0</td></tr>\n",
       "<tr><td>7</td><td>4.0</td><td>2154.0</td></tr>\n",
       "<tr><td>8</td><td>9.0</td><td>3532.0</td></tr>\n",
       "<tr><td>9</td><td>10.0</td><td>5139.0</td></tr>\n",
       "<tr><td>10</td><td>18.0</td><td>6460.0</td></tr>\n",
       "<tr><td>11</td><td>18.0</td><td>6591.0</td></tr>\n",
       "<tr><td>12</td><td>30.0</td><td>13102.0</td></tr>\n",
       "<tr><td>13</td><td>35.0</td><td>14984.0</td></tr>\n",
       "<tr><td>14</td><td>36.0</td><td>11789.0</td></tr>\n",
       "<tr><td>15</td><td>45.0</td><td>19464.0</td></tr>\n",
       "<tr><td>16</td><td>54.0</td><td>18007.0</td></tr>\n",
       "<tr><td>17</td><td>72.0</td><td>23458.0</td></tr>\n",
       "<tr><td>18</td><td>90.0</td><td>27495.0</td></tr>\n",
       "<tr><td>19</td><td>90.0</td><td>38890.0</td></tr>\n",
       "<tr><td>20</td><td>120.0</td><td>38099.0</td></tr>\n",
       "<tr><td>21</td><td>120.0</td><td>45832.0</td></tr>\n",
       "<tr><td>22</td><td>126.0</td><td>40794.0</td></tr>\n",
       "<tr><td>23</td><td>144.0</td><td>45451.0</td></tr>\n",
       "<tr><td>24</td><td>162.0</td><td>56930.0</td></tr>\n",
       "<tr><td>25</td><td>180.0</td><td>57192.0</td></tr>\n",
       "</table><style>table.dataTable {clear: both; width: auto !important; margin: 0 !important;}\n",
       ".dataTables_info, .dataTables_length, .dataTables_filter, .dataTables_paginate{\n",
       "display: inline-block; margin-right: 1em; }\n",
       ".paginate_button { margin-right: 5px; }\n",
       "</style>\n",
       "<script>\n",
       "\n",
       "var astropy_sort_num = function(a, b) {\n",
       "    var a_num = parseFloat(a);\n",
       "    var b_num = parseFloat(b);\n",
       "\n",
       "    if (isNaN(a_num) && isNaN(b_num))\n",
       "        return ((a < b) ? -1 : ((a > b) ? 1 : 0));\n",
       "    else if (!isNaN(a_num) && !isNaN(b_num))\n",
       "        return ((a_num < b_num) ? -1 : ((a_num > b_num) ? 1 : 0));\n",
       "    else\n",
       "        return isNaN(a_num) ? -1 : 1;\n",
       "}\n",
       "\n",
       "require.config({paths: {\n",
       "    datatables: 'https://cdn.datatables.net/1.10.12/js/jquery.dataTables.min'\n",
       "}});\n",
       "require([\"datatables\"], function(){\n",
       "    console.log(\"$('#table4582136016-988521').dataTable()\");\n",
       "    \n",
       "jQuery.extend( jQuery.fn.dataTableExt.oSort, {\n",
       "    \"optionalnum-asc\": astropy_sort_num,\n",
       "    \"optionalnum-desc\": function (a,b) { return -astropy_sort_num(a, b); }\n",
       "});\n",
       "\n",
       "    $('#table4582136016-988521').dataTable({\n",
       "        order: [],\n",
       "        pageLength: 50,\n",
       "        lengthMenu: [[10, 25, 50, 100, 500, 1000, -1], [10, 25, 50, 100, 500, 1000, 'All']],\n",
       "        pagingType: \"full_numbers\",\n",
       "        columnDefs: [{targets: [0, 1, 2], type: \"optionalnum\"}]\n",
       "    });\n",
       "});\n",
       "</script>\n"
      ],
      "text/plain": [
       "<IPython.core.display.HTML object>"
      ]
     },
     "execution_count": 279,
     "metadata": {},
     "output_type": "execute_result"
    }
   ],
   "source": [
    "t.show_in_notebook()"
   ]
  },
  {
   "cell_type": "code",
   "execution_count": 280,
   "metadata": {},
   "outputs": [],
   "source": [
    "t.show_in_browser()"
   ]
  },
  {
   "cell_type": "code",
   "execution_count": null,
   "metadata": {},
   "outputs": [],
   "source": []
  }
 ],
 "metadata": {
  "kernelspec": {
   "display_name": "Python 3",
   "language": "python",
   "name": "python3"
  },
  "language_info": {
   "codemirror_mode": {
    "name": "ipython",
    "version": 3
   },
   "file_extension": ".py",
   "mimetype": "text/x-python",
   "name": "python",
   "nbconvert_exporter": "python",
   "pygments_lexer": "ipython3",
   "version": "3.6.4"
  }
 },
 "nbformat": 4,
 "nbformat_minor": 2
}
