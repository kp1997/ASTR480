{
 "cells": [
  {
   "cell_type": "markdown",
   "metadata": {},
   "source": [
    "# Silicon Band Gap Energy"
   ]
  },
  {
   "cell_type": "code",
   "execution_count": 1,
   "metadata": {},
   "outputs": [],
   "source": [
    "# Report Due 11 days after CCD observations taken.\n",
    "import numpy as np\n",
    "import matplotlib.pyplot as plt\n",
    "# We will use the scipy curve_fit function to fit a model to data.\n",
    "from scipy.optimize import curve_fit"
   ]
  },
  {
   "cell_type": "markdown",
   "metadata": {},
   "source": [
    "Enter data from table as numpy arrays"
   ]
  },
  {
   "cell_type": "code",
   "execution_count": 13,
   "metadata": {},
   "outputs": [],
   "source": [
    "t_cel = np.array([-15., -10., -8., -6., -4.2, -2.3, 0., 2., \n",
    "                3.6, 5.8, 8.2, 10., 12.8, 16.2, 20.])\n",
    "adu = np.array([13, 15, 16, 17, 19, 22, 24, 28, 32, 37, \n",
    "                43, 50, 62, 89, 139])\n",
    "\n",
    "from astropy.table import Table\n",
    "\n",
    "t = Table([t_cel, adu], names=('Temperature (Celcius)', 'Counts (ADUs)'), meta={'name': 'first table'})\n",
    "t.show_in_browser()"
   ]
  },
  {
   "cell_type": "markdown",
   "metadata": {},
   "source": [
    "Convert Celsius to Kelvin"
   ]
  },
  {
   "cell_type": "code",
   "execution_count": 3,
   "metadata": {},
   "outputs": [],
   "source": [
    "t_kel = t_cel + 273"
   ]
  },
  {
   "cell_type": "markdown",
   "metadata": {},
   "source": [
    "Convert ADU (counts) to electrons"
   ]
  },
  {
   "cell_type": "code",
   "execution_count": 4,
   "metadata": {},
   "outputs": [],
   "source": [
    "electrons = 2.3 * adu"
   ]
  },
  {
   "cell_type": "markdown",
   "metadata": {},
   "source": [
    "Convert electrons to electrons per second"
   ]
  },
  {
   "cell_type": "code",
   "execution_count": 5,
   "metadata": {},
   "outputs": [],
   "source": [
    "electrons_per_sec = electrons / 120s"
   ]
  },
  {
   "cell_type": "markdown",
   "metadata": {},
   "source": [
    "## Plot dark current (e-/sec) vs. inverse temperature\n",
    "Make a plot in the cell below"
   ]
  },
  {
   "cell_type": "code",
   "execution_count": 6,
   "metadata": {},
   "outputs": [
    {
     "data": {
      "image/png": "[encoded data removed]",
      "text/plain": [
       "<matplotlib.figure.Figure at 0x1122a24e0>"
      ]
     },
     "metadata": {},
     "output_type": "display_data"
    }
   ],
   "source": [
    "fig, ax = plt.subplots()\n",
    "ax.plot(1 / t_kel, electrons_per_sec)\n",
    "ax.set_xlabel(\"Inverse Temp (K)\")\n",
    "ax.set_ylabel(\"Dark Current (e-/sec)\")\n",
    "plt.show()"
   ]
  },
  {
   "cell_type": "markdown",
   "metadata": {},
   "source": [
    "## Fit for the band gap energy\n",
    "We will try to fit a model for dark current of the form\n",
    "\n",
    "$D = \\alpha e^{-e_g/2k_bT}$"
   ]
  },
  {
   "cell_type": "code",
   "execution_count": 7,
   "metadata": {},
   "outputs": [],
   "source": [
    "# The Boltzmann constant\n",
    "k_b = 8.6175e-5\n",
    "\n",
    "def dark_current(t_k, alpha, e_g):\n",
    "    \"\"\"\n",
    "    Analytic expression for dark current as a function of temperature.\n",
    "    \n",
    "    Parameters\n",
    "    ----------\n",
    "    t_k : numpy.ndarray\n",
    "        Temperature in Kelvin\n",
    "    alpha : float\n",
    "        Constant coefficient in front of exponential funtion.\n",
    "    e_g : float\n",
    "        Band gap energy in eV.\n",
    "    \n",
    "    Returns\n",
    "    -------\n",
    "    dark_current : numpy.ndarray\n",
    "        Dark current in electrons/pixel/second.\n",
    "    \"\"\"\n",
    "    dark_current = alpha * np.exp(-e_g / (2 * k_b * t_k))\n",
    "    return dark_current"
   ]
  },
  {
   "cell_type": "markdown",
   "metadata": {},
   "source": [
    "## Inital guesses for parameters\n",
    "We need initial guesses for the values of $\\alpha$ and $e_g$."
   ]
  },
  {
   "cell_type": "code",
   "execution_count": 14,
   "metadata": {},
   "outputs": [
    {
     "data": {
      "text/plain": [
       "7686220198.248869"
      ]
     },
     "execution_count": 14,
     "metadata": {},
     "output_type": "execute_result"
    }
   ],
   "source": [
    "t_0 = t_kel[-1]\n",
    "d_0 = electrons_per_sec[-1]\n",
    "\n",
    "alpha_0 =  d_0 / np.exp(-1.1 / (2 * k_b * t_0))\n",
    "e_g_0 = 1.1\n",
    "alpha_0"
   ]
  },
  {
   "cell_type": "markdown",
   "metadata": {},
   "source": [
    "## Least squares fit"
   ]
  },
  {
   "cell_type": "code",
   "execution_count": 9,
   "metadata": {},
   "outputs": [
    {
     "data": {
      "text/plain": [
       "array([[1.04944154e+22, 6.83775599e+09],\n",
       "       [6.83775599e+09, 4.45729329e-03]])"
      ]
     },
     "execution_count": 9,
     "metadata": {},
     "output_type": "execute_result"
    }
   ],
   "source": [
    "p_opt, p_cov = curve_fit(dark_current, t_kel, electrons_per_sec, p0=[alpha_0, e_g_0])\n",
    "\n",
    "# Errors in the fit\n",
    "sig_alpha, sig_e_g = np.sqrt(np.diag(p_cov))\n",
    "p_cov"
   ]
  },
  {
   "cell_type": "markdown",
   "metadata": {},
   "source": [
    "## Best fit values"
   ]
  },
  {
   "cell_type": "code",
   "execution_count": 10,
   "metadata": {},
   "outputs": [
    {
     "name": "stdout",
     "output_type": "stream",
     "text": [
      "76088119939.13002\n",
      "1.2192320337409752\n"
     ]
    }
   ],
   "source": [
    "alpha_fit, e_g_fit = p_opt\n",
    "print(alpha_fit)\n",
    "print(e_g_fit)"
   ]
  },
  {
   "cell_type": "markdown",
   "metadata": {},
   "source": [
    "## Plot the data and best fit model\n",
    "\n",
    "Make a plot in the cell below. To plot the model, use the `dark_current` function with `alpha_fit` and `e_g_fit`."
   ]
  },
  {
   "cell_type": "code",
   "execution_count": 11,
   "metadata": {},
   "outputs": [
    {
     "data": {
      "image/png": "[encoded data removed]",
      "text/plain": [
       "<matplotlib.figure.Figure at 0x117d08ba8>"
      ]
     },
     "metadata": {},
     "output_type": "display_data"
    }
   ],
   "source": [
    "data_current = dark_current(t_kel, alpha_fit, e_g_fit)\n",
    "\n",
    "fig, ax = plt.subplots()\n",
    "ax.plot(1 / t_kel, data_current)\n",
    "ax.plot(1 / t_kel, electrons_per_sec)\n",
    "plt.show()"
   ]
  },
  {
   "cell_type": "code",
   "execution_count": 48,
   "metadata": {},
   "outputs": [
    {
     "data": {
      "text/plain": [
       "0.003663003663003663"
      ]
     },
     "execution_count": 48,
     "metadata": {},
     "output_type": "execute_result"
    }
   ],
   "source": [
    "1/273"
   ]
  },
  {
   "cell_type": "code",
   "execution_count": 49,
   "metadata": {},
   "outputs": [
    {
     "data": {
      "text/plain": [
       "0.42420948894946114"
      ]
     },
     "execution_count": 49,
     "metadata": {},
     "output_type": "execute_result"
    }
   ],
   "source": [
    "dark_current(273, alpha_fit, e_g_fit)"
   ]
  },
  {
   "cell_type": "code",
   "execution_count": null,
   "metadata": {},
   "outputs": [],
   "source": [
    "#0.334 e/cm^2/s"
   ]
  },
  {
   "cell_type": "code",
   "execution_count": null,
   "metadata": {},
   "outputs": [],
   "source": []
  }
 ],
 "metadata": {
  "anaconda-cloud": {},
  "kernelspec": {
   "display_name": "Python 3",
   "language": "python",
   "name": "python3"
  },
  "language_info": {
   "codemirror_mode": {
    "name": "ipython",
    "version": 3
   },
   "file_extension": ".py",
   "mimetype": "text/x-python",
   "name": "python",
   "nbconvert_exporter": "python",
   "pygments_lexer": "ipython3",
   "version": "3.6.4"
  }
 },
 "nbformat": 4,
 "nbformat_minor": 1
}
