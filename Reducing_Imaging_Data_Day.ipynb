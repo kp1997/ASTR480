{
 "cells": [
  {
   "cell_type": "code",
   "execution_count": 14,
   "metadata": {},
   "outputs": [],
   "source": [
    "from astropy import units as u\n",
    "from astropy.io import fits\n",
    "import numpy as np\n",
    "from astropy.nddata import CCDData\n",
    "from subprocess import Popen\n",
    "import ccdproc\n",
    "from astropy.modeling import models"
   ]
  },
  {
   "cell_type": "code",
   "execution_count": 15,
   "metadata": {},
   "outputs": [],
   "source": [
    "#OVERSCANNNN\n",
    "#bias_files = [line.rstrip('\\n') for line in open('/Users/kyleporter/Desktop/ASTR480/Wolf1346/all_allfiles.list')]\n",
    "#for file in bias_files:\n",
    "#    data = fits.getdata(\"/Users/kyleporter/Desktop/ASTR480/RAW_Wolf1346/\" + file)\n",
    "#    new_data = np.delete(data, slice(1023,1026), 0)\n",
    "#    newer_data = np.delete(new_data, slice(1026,1077), 1)\n",
    "#    fits.writeto('/Users/kyleporter/Desktop/ASTR480/Wolf_overscan_cut/' + file, newer_data)"
   ]
  },
  {
   "cell_type": "code",
   "execution_count": 16,
   "metadata": {},
   "outputs": [],
   "source": [
    "bias_files = [line.rstrip('\\n') for line in open('/Users/kyleporter/Desktop/ASTR480/Wolf1346/all_biases.txt')]\n",
    "data_stack = []\n",
    "for file in bias_files:\n",
    "    data_stack.append(fits.getdata(\"/Users/kyleporter/Desktop/ASTR480/Wolf_overscan_cut/\" + file))"
   ]
  },
  {
   "cell_type": "code",
   "execution_count": 17,
   "metadata": {},
   "outputs": [
    {
     "data": {
      "text/plain": [
       "array([[ 318,  320, 1507, ..., 1086,  337,  339],\n",
       "       [ 304,  303,  333, ...,  341,  312,  310],\n",
       "       [ 312,  311,  340, ...,  348,  319,  316],\n",
       "       ...,\n",
       "       [ 320,  320,  348, ...,  349,  321,  319],\n",
       "       [ 308,  304,  334, ...,  341,  304,  307],\n",
       "       [ 325,  325, 1324, ..., 1654,  334,  333]], dtype=uint16)"
      ]
     },
     "execution_count": 17,
     "metadata": {},
     "output_type": "execute_result"
    }
   ],
   "source": [
    "medianBias = np.median(data_stack,axis=0) \n",
    "medianBias\n",
    "header = fits.getheader(\"/Users/kyleporter/Desktop/ASTR480/Wolf_overscan_cut/\" + bias_files[0])\n",
    "header['HISTORY'] = 'Median combined'\n",
    "header\n",
    "fits.getdata(\"/Users/kyleporter/Desktop/ASTR480/Wolf_overscan_cut/\" + file)\n",
    "#fits.writeto('/Users/kyleporter/Desktop/ASTR480/Wolf_overscan_cut/master_bias.fits',medianBias,header)"
   ]
  },
  {
   "cell_type": "code",
   "execution_count": 23,
   "metadata": {},
   "outputs": [
    {
     "data": {
      "text/plain": [
       "array([[ 318.,  316., 1531., ..., 1086.,  339.,  338.],\n",
       "       [ 304.,  302.,  333., ...,  341.,  309.,  310.],\n",
       "       [ 314.,  311.,  342., ...,  350.,  317.,  316.],\n",
       "       ...,\n",
       "       [ 318.,  316.,  348., ...,  350.,  318.,  319.],\n",
       "       [ 307.,  306.,  335., ...,  341.,  307.,  309.],\n",
       "       [ 327.,  327., 1316., ..., 1654.,  333.,  334.]])"
      ]
     },
     "execution_count": 23,
     "metadata": {},
     "output_type": "execute_result"
    }
   ],
   "source": [
    "medianBias"
   ]
  },
  {
   "cell_type": "code",
   "execution_count": 8,
   "metadata": {
    "collapsed": true
   },
   "outputs": [
    {
     "data": {
      "text/plain": [
       "[array([[ 320,  316, 1564, ..., 1104,  340,  340],\n",
       "        [ 304,  301,  337, ...,  340,  308,  310],\n",
       "        [ 315,  316,  338, ...,  349,  314,  319],\n",
       "        ...,\n",
       "        [ 320,  313,  342, ...,  349,  317,  317],\n",
       "        [ 310,  306,  336, ...,  342,  307,  311],\n",
       "        [ 329,  327, 1318, ..., 1676,  333,  333]], dtype=uint16),\n",
       " array([[ 318,  315, 1624, ..., 1170,  335,  337],\n",
       "        [ 302,  301,  330, ...,  341,  309,  307],\n",
       "        [ 313,  308,  342, ...,  348,  317,  316],\n",
       "        ...,\n",
       "        [ 319,  316,  344, ...,  347,  318,  320],\n",
       "        [ 303,  303,  338, ...,  343,  309,  309],\n",
       "        [ 326,  327, 1332, ..., 1612,  334,  334]], dtype=uint16),\n",
       " array([[ 318,  316, 1506, ..., 1062,  339,  343],\n",
       "        [ 300,  302,  332, ...,  343,  309,  311],\n",
       "        [ 312,  312,  344, ...,  352,  316,  316],\n",
       "        ...,\n",
       "        [ 317,  317,  350, ...,  350,  322,  321],\n",
       "        [ 307,  306,  339, ...,  341,  310,  306],\n",
       "        [ 330,  329, 1299, ..., 1660,  337,  334]], dtype=uint16),\n",
       " array([[ 317,  318, 1621, ..., 1085,  338,  335],\n",
       "        [ 304,  302,  330, ...,  340,  308,  308],\n",
       "        [ 313,  310,  342, ...,  349,  319,  315],\n",
       "        ...,\n",
       "        [ 320,  317,  349, ...,  350,  318,  321],\n",
       "        [ 304,  307,  335, ...,  339,  307,  309],\n",
       "        [ 327,  328, 1311, ..., 1573,  336,  333]], dtype=uint16),\n",
       " array([[ 319,  315, 1500, ..., 1081,  338,  338],\n",
       "        [ 302,  305,  332, ...,  344,  311,  312],\n",
       "        [ 314,  311,  344, ...,  350,  317,  319],\n",
       "        ...,\n",
       "        [ 314,  315,  353, ...,  348,  318,  322],\n",
       "        [ 308,  307,  335, ...,  341,  312,  309],\n",
       "        [ 329,  326, 1302, ..., 1561,  332,  335]], dtype=uint16),\n",
       " array([[ 314,  318, 1526, ..., 1073,  339,  342],\n",
       "        [ 304,  304,  330, ...,  342,  306,  307],\n",
       "        [ 314,  314,  340, ...,  346,  318,  317],\n",
       "        ...,\n",
       "        [ 318,  321,  347, ...,  352,  318,  316],\n",
       "        [ 306,  303,  339, ...,  338,  310,  309],\n",
       "        [ 328,  328, 1316, ..., 1656,  331,  335]], dtype=uint16),\n",
       " array([[ 314,  314, 1638, ..., 1250,  335,  337],\n",
       "        [ 304,  300,  339, ...,  340,  308,  307],\n",
       "        [ 312,  313,  338, ...,  351,  316,  315],\n",
       "        ...,\n",
       "        [ 318,  317,  349, ...,  352,  317,  317],\n",
       "        [ 300,  308,  334, ...,  337,  308,  306],\n",
       "        [ 322,  325, 1397, ..., 1624,  330,  332]], dtype=uint16),\n",
       " array([[ 320,  316, 1485, ..., 1100,  340,  337],\n",
       "        [ 306,  301,  334, ...,  343,  311,  311],\n",
       "        [ 314,  308,  344, ...,  352,  313,  316],\n",
       "        ...,\n",
       "        [ 318,  314,  348, ...,  352,  318,  319],\n",
       "        [ 308,  311,  334, ...,  341,  307,  308],\n",
       "        [ 327,  332, 1281, ..., 1647,  332,  334]], dtype=uint16),\n",
       " array([[ 316,  312, 1531, ..., 1066,  343,  339],\n",
       "        [ 302,  301,  336, ...,  347,  307,  310],\n",
       "        [ 315,  314,  344, ...,  350,  318,  320],\n",
       "        ...,\n",
       "        [ 316,  315,  344, ...,  349,  320,  319],\n",
       "        [ 306,  306,  336, ...,  340,  307,  308],\n",
       "        [ 327,  327, 1275, ..., 1688,  333,  337]], dtype=uint16),\n",
       " array([[ 316,  315, 1542, ..., 1092,  340,  337],\n",
       "        [ 306,  302,  335, ...,  341,  311,  310],\n",
       "        [ 316,  311,  346, ...,  350,  317,  316],\n",
       "        ...,\n",
       "        [ 322,  315,  350, ...,  352,  317,  321],\n",
       "        [ 307,  307,  334, ...,  338,  306,  309],\n",
       "        [ 328,  325, 1317, ..., 1660,  333,  333]], dtype=uint16),\n",
       " array([[ 318,  320, 1507, ..., 1086,  337,  339],\n",
       "        [ 304,  303,  333, ...,  341,  312,  310],\n",
       "        [ 312,  311,  340, ...,  348,  319,  316],\n",
       "        ...,\n",
       "        [ 320,  320,  348, ...,  349,  321,  319],\n",
       "        [ 308,  304,  334, ...,  341,  304,  307],\n",
       "        [ 325,  325, 1324, ..., 1654,  334,  333]], dtype=uint16)]"
      ]
     },
     "execution_count": 8,
     "metadata": {},
     "output_type": "execute_result"
    }
   ],
   "source": [
    "data_stack"
   ]
  },
  {
   "cell_type": "code",
   "execution_count": 26,
   "metadata": {},
   "outputs": [],
   "source": [
    "make_no_bias_files = [line.rstrip('\\n') for line in open('/Users/kyleporter/Desktop/ASTR480/Wolf1346/all_allfiles.list')]\n",
    "data_stack = []\n",
    "\n",
    "n = len(bias_files)\n",
    "\n",
    "for i in range(0,n):\n",
    "    data,header = fits.getdata('/Users/kyleporter/Desktop/ASTR480/Wolf_overscan_cut/'+make_no_bias_files[i],header=True)\n",
    "    dataout = data - medianBias\n",
    "    header['HISTORY'] = 'Bias subtracted'\n",
    "    fits.writeto(\"/Users/kyleporter/Desktop/ASTR480/Wolf_no_bias/no_bias_\" + make_no_bias_files[i], dataout, header)"
   ]
  },
  {
   "cell_type": "code",
   "execution_count": 27,
   "metadata": {},
   "outputs": [],
   "source": [
    "# flat_headers = []\n",
    "# flat_files = [line.rstrip('\\n') for line in open('/Users/kyleporter/Desktop/ASTR480/Wolf1346/all_flats.txt')]\n",
    "# for i in flat_files:\n",
    "#     flat_headers.append(fits.getheader(\"/Users/kyleporter/Desktop/ASTR480/Wolf1346/\" + i)[\"FILTER\"])\n",
    "#     flat_headers.append(i)"
   ]
  },
  {
   "cell_type": "code",
   "execution_count": 31,
   "metadata": {},
   "outputs": [
    {
     "ename": "VerifyError",
     "evalue": "\nVerification reported errors:\nHDU 0:\n    Card 35:\n        Card 'CD1_1' is not FITS standard (invalid value string: '+NAN                 / WCS (1/InstScaleX)*cos(InstAng)').\n    Card 36:\n        Card 'CD1_2' is not FITS standard (invalid value string: '+NAN                 / WCS (1/InstScaleY)*sin(InstAng)').\n    Card 37:\n        Card 'CD2_1' is not FITS standard (invalid value string: '+NAN                 / WCS (-1/(InstScaleX)*sin(InstAng)').\n    Card 38:\n        Card 'CD2_2' is not FITS standard (invalid value string: '+NAN                 / WCS (1/InstScaleY)*cos(InstAng)').\nNote: astropy.io.fits uses zero-based indexing.\n",
     "output_type": "error",
     "traceback": [
      "\u001b[0;31m---------------------------------------------------------------------------\u001b[0m",
      "\u001b[0;31mVerifyError\u001b[0m                               Traceback (most recent call last)",
      "\u001b[0;32m<ipython-input-31-2dca4a9825e8>\u001b[0m in \u001b[0;36m<module>\u001b[0;34m()\u001b[0m\n\u001b[1;32m     13\u001b[0m \u001b[0;34m\u001b[0m\u001b[0m\n\u001b[1;32m     14\u001b[0m \u001b[0mheader\u001b[0m\u001b[0;34m[\u001b[0m\u001b[0;34m'HISTORY'\u001b[0m\u001b[0;34m]\u001b[0m \u001b[0;34m=\u001b[0m \u001b[0;34m'Combined and normalized flat field'\u001b[0m\u001b[0;34m\u001b[0m\u001b[0m\n\u001b[0;32m---> 15\u001b[0;31m \u001b[0mfits\u001b[0m\u001b[0;34m.\u001b[0m\u001b[0mwriteto\u001b[0m\u001b[0;34m(\u001b[0m\u001b[0;34m'/Users/kyleporter/Desktop/ASTR480/Wolf_flatted/washm_flat_avg.fits'\u001b[0m\u001b[0;34m,\u001b[0m\u001b[0mwashm_flat_avg\u001b[0m\u001b[0;34m,\u001b[0m\u001b[0mheader\u001b[0m\u001b[0;34m)\u001b[0m\u001b[0;34m\u001b[0m\u001b[0m\n\u001b[0m\u001b[1;32m     16\u001b[0m \u001b[0;34m\u001b[0m\u001b[0m\n\u001b[1;32m     17\u001b[0m \u001b[0mJCRC_flat_stack\u001b[0m \u001b[0;34m=\u001b[0m \u001b[0;34m[\u001b[0m\u001b[0;34m]\u001b[0m\u001b[0;34m\u001b[0m\u001b[0m\n",
      "\u001b[0;32m/anaconda3/lib/python3.6/site-packages/astropy/utils/decorators.py\u001b[0m in \u001b[0;36mwrapper\u001b[0;34m(*args, **kwargs)\u001b[0m\n\u001b[1;32m    505\u001b[0m                         \u001b[0;31m# one with the name of the new argument to the function\u001b[0m\u001b[0;34m\u001b[0m\u001b[0;34m\u001b[0m\u001b[0m\n\u001b[1;32m    506\u001b[0m                         \u001b[0mkwargs\u001b[0m\u001b[0;34m[\u001b[0m\u001b[0mnew_name\u001b[0m\u001b[0;34m[\u001b[0m\u001b[0mi\u001b[0m\u001b[0;34m]\u001b[0m\u001b[0;34m]\u001b[0m \u001b[0;34m=\u001b[0m \u001b[0mvalue\u001b[0m\u001b[0;34m\u001b[0m\u001b[0m\n\u001b[0;32m--> 507\u001b[0;31m             \u001b[0;32mreturn\u001b[0m \u001b[0mfunction\u001b[0m\u001b[0;34m(\u001b[0m\u001b[0;34m*\u001b[0m\u001b[0margs\u001b[0m\u001b[0;34m,\u001b[0m \u001b[0;34m**\u001b[0m\u001b[0mkwargs\u001b[0m\u001b[0;34m)\u001b[0m\u001b[0;34m\u001b[0m\u001b[0m\n\u001b[0m\u001b[1;32m    508\u001b[0m \u001b[0;34m\u001b[0m\u001b[0m\n\u001b[1;32m    509\u001b[0m         \u001b[0;32mreturn\u001b[0m \u001b[0mwrapper\u001b[0m\u001b[0;34m\u001b[0m\u001b[0m\n",
      "\u001b[0;32m/anaconda3/lib/python3.6/site-packages/astropy/io/fits/convenience.py\u001b[0m in \u001b[0;36mwriteto\u001b[0;34m(filename, data, header, output_verify, overwrite, checksum)\u001b[0m\n\u001b[1;32m    431\u001b[0m         \u001b[0mhdu\u001b[0m \u001b[0;34m=\u001b[0m \u001b[0mPrimaryHDU\u001b[0m\u001b[0;34m(\u001b[0m\u001b[0mdata\u001b[0m\u001b[0;34m,\u001b[0m \u001b[0mheader\u001b[0m\u001b[0;34m=\u001b[0m\u001b[0mheader\u001b[0m\u001b[0;34m)\u001b[0m\u001b[0;34m\u001b[0m\u001b[0m\n\u001b[1;32m    432\u001b[0m     hdu.writeto(filename, overwrite=overwrite, output_verify=output_verify,\n\u001b[0;32m--> 433\u001b[0;31m                 checksum=checksum)\n\u001b[0m\u001b[1;32m    434\u001b[0m \u001b[0;34m\u001b[0m\u001b[0m\n\u001b[1;32m    435\u001b[0m \u001b[0;34m\u001b[0m\u001b[0m\n",
      "\u001b[0;32m/anaconda3/lib/python3.6/site-packages/astropy/utils/decorators.py\u001b[0m in \u001b[0;36mwrapper\u001b[0;34m(*args, **kwargs)\u001b[0m\n\u001b[1;32m    505\u001b[0m                         \u001b[0;31m# one with the name of the new argument to the function\u001b[0m\u001b[0;34m\u001b[0m\u001b[0;34m\u001b[0m\u001b[0m\n\u001b[1;32m    506\u001b[0m                         \u001b[0mkwargs\u001b[0m\u001b[0;34m[\u001b[0m\u001b[0mnew_name\u001b[0m\u001b[0;34m[\u001b[0m\u001b[0mi\u001b[0m\u001b[0;34m]\u001b[0m\u001b[0;34m]\u001b[0m \u001b[0;34m=\u001b[0m \u001b[0mvalue\u001b[0m\u001b[0;34m\u001b[0m\u001b[0m\n\u001b[0;32m--> 507\u001b[0;31m             \u001b[0;32mreturn\u001b[0m \u001b[0mfunction\u001b[0m\u001b[0;34m(\u001b[0m\u001b[0;34m*\u001b[0m\u001b[0margs\u001b[0m\u001b[0;34m,\u001b[0m \u001b[0;34m**\u001b[0m\u001b[0mkwargs\u001b[0m\u001b[0;34m)\u001b[0m\u001b[0;34m\u001b[0m\u001b[0m\n\u001b[0m\u001b[1;32m    508\u001b[0m \u001b[0;34m\u001b[0m\u001b[0m\n\u001b[1;32m    509\u001b[0m         \u001b[0;32mreturn\u001b[0m \u001b[0mwrapper\u001b[0m\u001b[0;34m\u001b[0m\u001b[0m\n",
      "\u001b[0;32m/anaconda3/lib/python3.6/site-packages/astropy/io/fits/hdu/base.py\u001b[0m in \u001b[0;36mwriteto\u001b[0;34m(self, name, output_verify, overwrite, checksum)\u001b[0m\n\u001b[1;32m    375\u001b[0m         \u001b[0mhdulist\u001b[0m \u001b[0;34m=\u001b[0m \u001b[0mHDUList\u001b[0m\u001b[0;34m(\u001b[0m\u001b[0;34m[\u001b[0m\u001b[0mself\u001b[0m\u001b[0;34m]\u001b[0m\u001b[0;34m)\u001b[0m\u001b[0;34m\u001b[0m\u001b[0m\n\u001b[1;32m    376\u001b[0m         hdulist.writeto(name, output_verify, overwrite=overwrite,\n\u001b[0;32m--> 377\u001b[0;31m                         checksum=checksum)\n\u001b[0m\u001b[1;32m    378\u001b[0m \u001b[0;34m\u001b[0m\u001b[0m\n\u001b[1;32m    379\u001b[0m     \u001b[0;34m@\u001b[0m\u001b[0mclassmethod\u001b[0m\u001b[0;34m\u001b[0m\u001b[0m\n",
      "\u001b[0;32m/anaconda3/lib/python3.6/site-packages/astropy/utils/decorators.py\u001b[0m in \u001b[0;36mwrapper\u001b[0;34m(*args, **kwargs)\u001b[0m\n\u001b[1;32m    505\u001b[0m                         \u001b[0;31m# one with the name of the new argument to the function\u001b[0m\u001b[0;34m\u001b[0m\u001b[0;34m\u001b[0m\u001b[0m\n\u001b[1;32m    506\u001b[0m                         \u001b[0mkwargs\u001b[0m\u001b[0;34m[\u001b[0m\u001b[0mnew_name\u001b[0m\u001b[0;34m[\u001b[0m\u001b[0mi\u001b[0m\u001b[0;34m]\u001b[0m\u001b[0;34m]\u001b[0m \u001b[0;34m=\u001b[0m \u001b[0mvalue\u001b[0m\u001b[0;34m\u001b[0m\u001b[0m\n\u001b[0;32m--> 507\u001b[0;31m             \u001b[0;32mreturn\u001b[0m \u001b[0mfunction\u001b[0m\u001b[0;34m(\u001b[0m\u001b[0;34m*\u001b[0m\u001b[0margs\u001b[0m\u001b[0;34m,\u001b[0m \u001b[0;34m**\u001b[0m\u001b[0mkwargs\u001b[0m\u001b[0;34m)\u001b[0m\u001b[0;34m\u001b[0m\u001b[0m\n\u001b[0m\u001b[1;32m    508\u001b[0m \u001b[0;34m\u001b[0m\u001b[0m\n\u001b[1;32m    509\u001b[0m         \u001b[0;32mreturn\u001b[0m \u001b[0mwrapper\u001b[0m\u001b[0;34m\u001b[0m\u001b[0m\n",
      "\u001b[0;32m/anaconda3/lib/python3.6/site-packages/astropy/io/fits/hdu/hdulist.py\u001b[0m in \u001b[0;36mwriteto\u001b[0;34m(self, fileobj, output_verify, overwrite, checksum)\u001b[0m\n\u001b[1;32m    862\u001b[0m             \u001b[0;32mreturn\u001b[0m\u001b[0;34m\u001b[0m\u001b[0m\n\u001b[1;32m    863\u001b[0m \u001b[0;34m\u001b[0m\u001b[0m\n\u001b[0;32m--> 864\u001b[0;31m         \u001b[0mself\u001b[0m\u001b[0;34m.\u001b[0m\u001b[0mverify\u001b[0m\u001b[0;34m(\u001b[0m\u001b[0moption\u001b[0m\u001b[0;34m=\u001b[0m\u001b[0moutput_verify\u001b[0m\u001b[0;34m)\u001b[0m\u001b[0;34m\u001b[0m\u001b[0m\n\u001b[0m\u001b[1;32m    865\u001b[0m \u001b[0;34m\u001b[0m\u001b[0m\n\u001b[1;32m    866\u001b[0m         \u001b[0;31m# make sure the EXTEND keyword is there if there is extension\u001b[0m\u001b[0;34m\u001b[0m\u001b[0;34m\u001b[0m\u001b[0m\n",
      "\u001b[0;32m/anaconda3/lib/python3.6/site-packages/astropy/io/fits/verify.py\u001b[0m in \u001b[0;36mverify\u001b[0;34m(self, option)\u001b[0m\n\u001b[1;32m    119\u001b[0m                     \u001b[0mwarnings\u001b[0m\u001b[0;34m.\u001b[0m\u001b[0mwarn\u001b[0m\u001b[0;34m(\u001b[0m\u001b[0mline\u001b[0m\u001b[0;34m,\u001b[0m \u001b[0mVerifyWarning\u001b[0m\u001b[0;34m)\u001b[0m\u001b[0;34m\u001b[0m\u001b[0m\n\u001b[1;32m    120\u001b[0m             \u001b[0;32melse\u001b[0m\u001b[0;34m:\u001b[0m\u001b[0;34m\u001b[0m\u001b[0m\n\u001b[0;32m--> 121\u001b[0;31m                 \u001b[0;32mraise\u001b[0m \u001b[0mVerifyError\u001b[0m\u001b[0;34m(\u001b[0m\u001b[0;34m'\\n'\u001b[0m \u001b[0;34m+\u001b[0m \u001b[0;34m'\\n'\u001b[0m\u001b[0;34m.\u001b[0m\u001b[0mjoin\u001b[0m\u001b[0;34m(\u001b[0m\u001b[0mmessages\u001b[0m\u001b[0;34m)\u001b[0m\u001b[0;34m)\u001b[0m\u001b[0;34m\u001b[0m\u001b[0m\n\u001b[0m\u001b[1;32m    122\u001b[0m \u001b[0;34m\u001b[0m\u001b[0m\n\u001b[1;32m    123\u001b[0m \u001b[0;34m\u001b[0m\u001b[0m\n",
      "\u001b[0;31mVerifyError\u001b[0m: \nVerification reported errors:\nHDU 0:\n    Card 35:\n        Card 'CD1_1' is not FITS standard (invalid value string: '+NAN                 / WCS (1/InstScaleX)*cos(InstAng)').\n    Card 36:\n        Card 'CD1_2' is not FITS standard (invalid value string: '+NAN                 / WCS (1/InstScaleY)*sin(InstAng)').\n    Card 37:\n        Card 'CD2_1' is not FITS standard (invalid value string: '+NAN                 / WCS (-1/(InstScaleX)*sin(InstAng)').\n    Card 38:\n        Card 'CD2_2' is not FITS standard (invalid value string: '+NAN                 / WCS (1/InstScaleY)*cos(InstAng)').\nNote: astropy.io.fits uses zero-based indexing.\n"
     ]
    }
   ],
   "source": [
    "flatfiles_washm = [line.rstrip('\\n') for line in open('/Users/kyleporter/Desktop/ASTR480/Wolf1346/all_wash.list')]\n",
    "flatfiles_JCRC = [line.rstrip('\\n') for line in open('/Users/kyleporter/Desktop/ASTR480/Wolf1346/all_JCRC.list')]\n",
    "\n",
    "washm_flat_stack = []\n",
    "for file in flatfiles_washm:\n",
    "    data,header = fits.getdata('/Users/kyleporter/Desktop/ASTR480/Wolf1346/'+file,header=True)\n",
    "    data = data / np.median(data)\n",
    "    washm_flat_stack.append(data)\n",
    "\n",
    "washm_flat=np.median(washm_flat_stack,axis=0)\n",
    "m=np.mean(washm_flat)\n",
    "washm_flat_avg=washm_flat/m\n",
    "\n",
    "header['HISTORY'] = 'Combined and normalized flat field'\n",
    "fits.writeto('/Users/kyleporter/Desktop/ASTR480/Wolf_flatted/washm_flat_avg.fits',washm_flat_avg,header)\n",
    "\n",
    "JCRC_flat_stack = []\n",
    "for file in flatfiles_JCRC:\n",
    "    data,header = fits.getdata('/Users/kyleporter/Desktop/ASTR480/Wolf1346/'+file,header=True)\n",
    "    data = data / np.median(data)\n",
    "    JCRC_flat_stack.append(data)\n",
    "    \n",
    "JCRC_flat=np.median(JCRC_flat_stack,axis=0)\n",
    "m=np.mean(JCRC_flat)\n",
    "JCRC_flat_avg=JCRC_flat/m\n",
    "\n",
    "header['HISTORY'] = 'Combined and normalized flat field'\n",
    "fits.writeto('/Users/kyleporter/Desktop/ASTR480/Wolf_flatted/JCRC_flat_avg.fits',JCRC_flat_avg,header)\n",
    "\n",
    "n=len(washm_datain)\n",
    "\n",
    "for i in range(0,n):\n",
    "    data,header = fits.getdata(washm_datain[i],header=True)\n",
    "    dataout = data / washm_flat_avg\n",
    "    header['HISTORY'] = 'Flat Fielded'\n",
    "    fits.writeto(washm_dataout[i],dataout,header)\n",
    "\n",
    "    \n",
    "n2=len(JCRC_datain)\n",
    "\n",
    "for i in range(0,n2):\n",
    "    data,header = fits.getdata(JCRC_datain[i],header=True)\n",
    "    dataout = data / JCRC_flat_avg\n",
    "    header['HISTORY'] = 'Flat Fielded'\n",
    "    fits.writeto(JCRC_dataout[i],dataout,header)\n"
   ]
  },
  {
   "cell_type": "code",
   "execution_count": 20,
   "metadata": {},
   "outputs": [],
   "source": []
  },
  {
   "cell_type": "code",
   "execution_count": null,
   "metadata": {},
   "outputs": [],
   "source": []
  }
 ],
 "metadata": {
  "kernelspec": {
   "display_name": "Python 3",
   "language": "python",
   "name": "python3"
  },
  "language_info": {
   "codemirror_mode": {
    "name": "ipython",
    "version": 3
   },
   "file_extension": ".py",
   "mimetype": "text/x-python",
   "name": "python",
   "nbconvert_exporter": "python",
   "pygments_lexer": "ipython3",
   "version": "3.6.4"
  }
 },
 "nbformat": 4,
 "nbformat_minor": 2
}
