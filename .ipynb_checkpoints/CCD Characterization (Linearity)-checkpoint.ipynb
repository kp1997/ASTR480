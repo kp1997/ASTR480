{
 "cells": [
  {
   "cell_type": "code",
   "execution_count": 14,
   "metadata": {},
   "outputs": [],
   "source": [
    "import matplotlib.pyplot as plt\n",
    "import numpy as np\n",
    "from astropy.io import fits\n",
    "import glob"
   ]
  },
  {
   "cell_type": "code",
   "execution_count": 44,
   "metadata": {},
   "outputs": [
    {
     "name": "stderr",
     "output_type": "stream",
     "text": [
      "WARNING: VerifyWarning: Verification reported errors: [astropy.io.fits.verify]\n",
      "WARNING: VerifyWarning: Card 'OBS' is not FITS standard (invalid value string: 'AWO').  Fixed 'OBS' card to meet the FITS standard. [astropy.io.fits.verify]\n",
      "WARNING: VerifyWarning: Note: astropy.io.fits uses zero-based indexing.\n",
      " [astropy.io.fits.verify]\n",
      "WARNING: VerifyWarning: Card 'OBSERVER' is not FITS standard (invalid value string: 'SCCC').  Fixed 'OBSERVER' card to meet the FITS standard. [astropy.io.fits.verify]\n"
     ]
    },
    {
     "data": {
      "text/plain": [
       "SIMPLE  =                    T                                                  \n",
       "BITPIX  =                   16                                                  \n",
       "NAXIS   =                    2                                                  \n",
       "NAXIS1  =                 2184                                                  \n",
       "NAXIS2  =                 1472                                                  \n",
       "BSCALE  =                1.0E0                                                  \n",
       "BZERO   =            32768.0E0                                                  \n",
       "CCDFNAME= '480_2018_.Bias(0.0S0X1).71.fits'                                     \n",
       "PROGRAM = 'Equinox Image 1.10.2'                                                \n",
       "DATE-OBS= '2018-05-02T22:58:03.451'                                             \n",
       "INSTRUME= 'SBIG ST-10 3 CCD Camera'                                             \n",
       "EXPTIME = 0.120                                                                 \n",
       "CCD-TEMP= 0.2                                                                   \n",
       "IMAGETYP= 'Bias'                                                                \n",
       "CFWHEEL = 'CFW_8'                                                               \n",
       "FILTER  = 'Sky'                                                                 \n",
       "IMAGEBIN= '1X1'                                                                 \n",
       "XPIXSZ  = 6.80                                                                  \n",
       "YPIXSZ  = 6.80                                                                  \n",
       "CAMTYPE = 12                                                                    \n",
       "GUIDEPTX= 0.0                                                                   \n",
       "GUIDEPTY= 0.0                                                                   \n",
       "GDPIXSZ = 14.80                                                                 \n",
       "GDANGLE = 0                                                                     \n",
       "GUIDEBIN= '2X2'                                                                 \n",
       "AGEXP   = 0.000                                                                 \n",
       "AGFREQ  = 1.0                                                                   \n",
       "AGGAIN  = 1.0                                                                   \n",
       "OBS     = 'AWO     '                                                            \n",
       "OBSERVER= 'SCCC    '                                                            "
      ]
     },
     "execution_count": 44,
     "metadata": {},
     "output_type": "execute_result"
    }
   ],
   "source": [
    "fits.getheader(bias_list[2])"
   ]
  },
  {
   "cell_type": "code",
   "execution_count": 30,
   "metadata": {},
   "outputs": [],
   "source": [
    "bias_list = glob.glob(\"../480grp_Z/480_2018_.Bias*.fits\")\n",
    "flat_list = glob.glob(\"../480grp_Z/480_2018_.Flat*.fits\")"
   ]
  },
  {
   "cell_type": "code",
   "execution_count": 47,
   "metadata": {},
   "outputs": [],
   "source": [
    "bias_data = []\n",
    "bias_time = []\n",
    "flat_data = []\n",
    "flat_time = []\n",
    "for i in bias_list:\n",
    "    bias_data.append(np.median(fits.getdata(i)))\n",
    "    bias_time.append(fits.getheader(i)[\"EXPTIME\"])\n",
    "for i in flat_list:\n",
    "    flat_data.append(np.median(fits.getdata(i)))\n",
    "    flat_time.append(fits.getheader(i)[\"EXPTIME\"])"
   ]
  },
  {
   "cell_type": "code",
   "execution_count": 63,
   "metadata": {},
   "outputs": [
    {
     "ename": "TypeError",
     "evalue": "'>' not supported between instances of 'list' and 'int'",
     "output_type": "error",
     "traceback": [
      "\u001b[0;31m---------------------------------------------------------------------------\u001b[0m",
      "\u001b[0;31mTypeError\u001b[0m                                 Traceback (most recent call last)",
      "\u001b[0;32m<ipython-input-63-18686a4cf36c>\u001b[0m in \u001b[0;36m<module>\u001b[0;34m()\u001b[0m\n\u001b[0;32m----> 1\u001b[0;31m \u001b[0mflat_data\u001b[0m \u001b[0;34m>\u001b[0m \u001b[0;36m1000\u001b[0m\u001b[0;34m\u001b[0m\u001b[0m\n\u001b[0m",
      "\u001b[0;31mTypeError\u001b[0m: '>' not supported between instances of 'list' and 'int'"
     ]
    }
   ],
   "source": [
    "flat_data"
   ]
  },
  {
   "cell_type": "code",
   "execution_count": 58,
   "metadata": {},
   "outputs": [
    {
     "data": {
      "text/plain": [
       "[0.12,\n",
       " 162.0,\n",
       " 10.0,\n",
       " 0.5,\n",
       " 120.0,\n",
       " 0.12,\n",
       " 0.25,\n",
       " 0.12,\n",
       " 0.281,\n",
       " 9.0,\n",
       " 180.0,\n",
       " 45.0,\n",
       " 35.0,\n",
       " 0.5,\n",
       " 30.0,\n",
       " 120.0,\n",
       " 18.0,\n",
       " 1.125,\n",
       " 36.0,\n",
       " 18.0,\n",
       " 54.0,\n",
       " 0.12,\n",
       " 90.0,\n",
       " 90.0,\n",
       " 4.0,\n",
       " 2.0,\n",
       " 0.563,\n",
       " 3.456,\n",
       " 2.0,\n",
       " 0.24,\n",
       " 144.0,\n",
       " 126.0,\n",
       " 72.0,\n",
       " 0.12]"
      ]
     },
     "execution_count": 58,
     "metadata": {},
     "output_type": "execute_result"
    }
   ],
   "source": [
    "flat_time"
   ]
  },
  {
   "cell_type": "code",
   "execution_count": 52,
   "metadata": {},
   "outputs": [
    {
     "data": {
      "image/png": "[encoded data removed]",
      "text/plain": [
       "<matplotlib.figure.Figure at 0x1110c4940>"
      ]
     },
     "metadata": {},
     "output_type": "display_data"
    }
   ],
   "source": [
    "fig, ax = plt.subplots()\n",
    "ax.scatter(bias_time, bias_data)\n",
    "ax.scatter(flat_time, flat_data)\n",
    "plt.show()"
   ]
  },
  {
   "cell_type": "code",
   "execution_count": null,
   "metadata": {},
   "outputs": [],
   "source": []
  }
 ],
 "metadata": {
  "kernelspec": {
   "display_name": "Python 3",
   "language": "python",
   "name": "python3"
  },
  "language_info": {
   "codemirror_mode": {
    "name": "ipython",
    "version": 3
   },
   "file_extension": ".py",
   "mimetype": "text/x-python",
   "name": "python",
   "nbconvert_exporter": "python",
   "pygments_lexer": "ipython3",
   "version": "3.6.4"
  }
 },
 "nbformat": 4,
 "nbformat_minor": 2
}
