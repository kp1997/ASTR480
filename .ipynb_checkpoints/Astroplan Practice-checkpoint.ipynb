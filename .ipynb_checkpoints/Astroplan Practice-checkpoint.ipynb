{
 "cells": [
  {
   "cell_type": "code",
   "execution_count": 267,
   "metadata": {
    "collapsed": true
   },
   "outputs": [],
   "source": [
    "%matplotlib inline\n",
    "import matplotlib.pyplot as plt\n",
    "\n",
    "import numpy as np\n",
    "import pandas as pd\n",
    "\n",
    "import astropy.units as u\n",
    "from astropy.time import Time\n",
    "from astropy.coordinates import SkyCoord\n",
    "import pytz\n",
    "\n",
    "from astroplan.plots import plot_sky, plot_airmass\n",
    "from astroplan import Observer, FixedTarget, time_grid_from_range, observability_table, moon_illumination\n",
    "from astroplan import AirmassConstraint, MoonSeparationConstraint"
   ]
  },
  {
   "cell_type": "code",
   "execution_count": 76,
   "metadata": {
    "collapsed": true
   },
   "outputs": [],
   "source": [
    "apache = Observer(longitude = 105.8202778 * u.deg,\n",
    "                    latitude = 32.78027778 * u.deg,\n",
    "                    timezone = 'US/Mountain',\n",
    "                    name = 'Apache Point')\n",
    "#astropy.coordinates.EarthLocation.get_site()"
   ]
  },
  {
   "cell_type": "markdown",
   "metadata": {},
   "source": [
    "# TARGETS"
   ]
  },
  {
   "cell_type": "code",
   "execution_count": 32,
   "metadata": {},
   "outputs": [
    {
     "ename": "ModuleNotFoundError",
     "evalue": "No module named 'astroquery'",
     "output_type": "error",
     "traceback": [
      "\u001b[0;31m---------------------------------------------------------------------------\u001b[0m",
      "\u001b[0;31mModuleNotFoundError\u001b[0m                       Traceback (most recent call last)",
      "\u001b[0;32m<ipython-input-32-0e8be8dd01fb>\u001b[0m in \u001b[0;36m<module>\u001b[0;34m()\u001b[0m\n\u001b[0;32m----> 1\u001b[0;31m \u001b[0;32mfrom\u001b[0m \u001b[0mastroquery\u001b[0m\u001b[0;34m.\u001b[0m\u001b[0mned\u001b[0m \u001b[0;32mimport\u001b[0m \u001b[0mNed\u001b[0m\u001b[0;34m\u001b[0m\u001b[0m\n\u001b[0m\u001b[1;32m      2\u001b[0m \u001b[0mresult_table\u001b[0m \u001b[0;34m=\u001b[0m \u001b[0mNed\u001b[0m\u001b[0;34m.\u001b[0m\u001b[0mquery_refcode\u001b[0m\u001b[0;34m(\u001b[0m\u001b[0;34m'2013ApJ...772...82H '\u001b[0m\u001b[0;34m)\u001b[0m\u001b[0;34m\u001b[0m\u001b[0m\n\u001b[1;32m      3\u001b[0m \u001b[0mprint\u001b[0m\u001b[0;34m(\u001b[0m\u001b[0mresult_table\u001b[0m\u001b[0;34m)\u001b[0m\u001b[0;34m\u001b[0m\u001b[0m\n",
      "\u001b[0;31mModuleNotFoundError\u001b[0m: No module named 'astroquery'"
     ]
    }
   ],
   "source": [
    "#from astroquery.ned import Ned\n",
    "#result_table = Ned.query_refcode('2013ApJ...772...82H ')\n",
    "#print(result_table)"
   ]
  },
  {
   "cell_type": "code",
   "execution_count": 91,
   "metadata": {
    "collapsed": true
   },
   "outputs": [],
   "source": [
    "target_table = pd.read_csv('./globs2.csv')\n",
    "table_values = target_table.as_matrix()\n",
    "table_values\n",
    "targets = [FixedTarget(coord=SkyCoord(ra = ra*u.hourangle, dec = dec*u.deg), name=name)\n",
    "            for name, ra, dec in table_values]\n",
    "#target = [FixedTarget(coord=SkyCoord(ra = 0.712313889*u.hourangle, dec = 41.26875*u.deg), name='M31')]\n",
    "#         for Name, RA, DEC in table_values]"
   ]
  },
  {
   "cell_type": "code",
   "execution_count": 92,
   "metadata": {},
   "outputs": [
    {
     "data": {
      "text/plain": [
       "[<FixedTarget \"NGC 2915\" at SkyCoord (ICRS): (ra, dec) in deg ( 141.54795, -76.62639)>,\n",
       " <FixedTarget \"SMC\" at SkyCoord (ICRS): (ra, dec) in deg ( 13.1583, -72.8002)>,\n",
       " <FixedTarget \"NGC 406\" at SkyCoord (ICRS): (ra, dec) in deg ( 16.85265, -69.87742)>,\n",
       " <FixedTarget \"LMC\" at SkyCoord (ICRS): (ra, dec) in deg ( 80.8941, -69.7561)>,\n",
       " <FixedTarget \"NGC 2434\" at SkyCoord (ICRS): (ra, dec) in deg ( 113.71335, -69.28421)>,\n",
       " <FixedTarget \"ESO 059-01\" at SkyCoord (ICRS): (ra, dec) in deg ( 112.82685, -68.18753)>,\n",
       " <FixedTarget \"IC 5176\" at SkyCoord (ICRS): (ra, dec) in deg ( 333.7326, -66.84939)>,\n",
       " <FixedTarget \"NGC 1313\" at SkyCoord (ICRS): (ra, dec) in deg ( 49.56495, -66.49759)>,\n",
       " <FixedTarget \"PGC 6240\" at SkyCoord (ICRS): (ra, dec) in deg ( 25.37865, -65.61599)>,\n",
       " <FixedTarget \"NGC 2082\" at SkyCoord (ICRS): (ra, dec) in deg ( 85.46295, -64.30108)>,\n",
       " <FixedTarget \"ESO 137-18\" at SkyCoord (ICRS): (ra, dec) in deg ( 245.2464, -60.48759)>,\n",
       " <FixedTarget \"ESO 118-034\" at SkyCoord (ICRS): (ra, dec) in deg ( 70.07265, -58.74419)>,\n",
       " <FixedTarget \"KK 197\" at SkyCoord (ICRS): (ra, dec) in deg ( 129.4884, -57.97389)>,\n",
       " <FixedTarget \"NGC 1533\" at SkyCoord (ICRS): (ra, dec) in deg ( 62.466, -56.11846)>,\n",
       " <FixedTarget \"NGC 1553\" at SkyCoord (ICRS): (ra, dec) in deg ( 64.0437, -55.78002)>,\n",
       " <FixedTarget \"NGC 1549\" at SkyCoord (ICRS): (ra, dec) in deg ( 63.9381, -55.59229)>,\n",
       " <FixedTarget \"NGC 1581\" at SkyCoord (ICRS): (ra, dec) in deg ( 66.18735, -54.942)>,\n",
       " <FixedTarget \"ESO 154-023\" at SkyCoord (ICRS): (ra, dec) in deg ( 44.20905, -54.57064)>,\n",
       " <FixedTarget \"ESO 185-IG013\" at SkyCoord (ICRS): (ra, dec) in deg ( 296.25225, -54.25082)>,\n",
       " <FixedTarget \"NGC 6397 GAL1\" at SkyCoord (ICRS): (ra, dec) in deg ( 265.3008, -53.72125)>,\n",
       " <FixedTarget \"NGC 1311\" at SkyCoord (ICRS): (ra, dec) in deg ( 50.0292, -52.18582)>,\n",
       " <FixedTarget \"IC 1959\" at SkyCoord (ICRS): (ra, dec) in deg ( 53.30265, -50.41427)>,\n",
       " <FixedTarget \"NGC 7049\" at SkyCoord (ICRS): (ra, dec) in deg ( 319.74645, -48.5629)>,\n",
       " <FixedTarget \"NGC 6861\" at SkyCoord (ICRS): (ra, dec) in deg ( 301.8312, -48.3703)>,\n",
       " <FixedTarget \"ESO 223-09\" at SkyCoord (ICRS): (ra, dec) in deg ( 225.28575, -48.29184)>,\n",
       " <FixedTarget \"NGC 1483\" at SkyCoord (ICRS): (ra, dec) in deg ( 58.19835, -47.4775)>,\n",
       " <FixedTarget \"NGC 7014\" at SkyCoord (ICRS): (ra, dec) in deg ( 316.96725, -47.17902)>,\n",
       " <FixedTarget \"ESO 269-58\" at SkyCoord (ICRS): (ra, dec) in deg ( 197.63715, -46.99199)>,\n",
       " <FixedTarget \"ESO 274-01\" at SkyCoord (ICRS): (ra, dec) in deg ( 228.5559, -46.80911)>,\n",
       " <FixedTarget \"IC 2035\" at SkyCoord (ICRS): (ra, dec) in deg ( 62.25795, -45.5176)>,\n",
       " <FixedTarget \"ESO 269-66\" at SkyCoord (ICRS): (ra, dec) in deg ( 198.2865, -44.89)>,\n",
       " <FixedTarget \"NGC 5128\" at SkyCoord (ICRS): (ra, dec) in deg ( 201.3672, -43.01812)>,\n",
       " <FixedTarget \"NGC 5237\" at SkyCoord (ICRS): (ra, dec) in deg ( 204.4128, -42.8469)>,\n",
       " <FixedTarget \"KKS 55\" at SkyCoord (ICRS): (ra, dec) in deg ( 200.5533, -42.72806)>,\n",
       " <FixedTarget \"ESO 306-017\" at SkyCoord (ICRS): (ra, dec) in deg ( 85.02795, -40.83627)>,\n",
       " <FixedTarget \"NGC 55\" at SkyCoord (ICRS): (ra, dec) in deg ( 3.7233, -39.19658)>,\n",
       " <FixedTarget \"NGC 300\" at SkyCoord (ICRS): (ra, dec) in deg ( 13.72305, -37.68448)>,\n",
       " <FixedTarget \"FCC 242\" at SkyCoord (ICRS): (ra, dec) in deg ( 55.0854, -37.6449)>,\n",
       " <FixedTarget \"NGC 3557\" at SkyCoord (ICRS): (ra, dec) in deg ( 167.49045, -37.53925)>,\n",
       " <FixedTarget \"NGC 1419\" at SkyCoord (ICRS): (ra, dec) in deg ( 55.17555, -37.51088)>,\n",
       " <FixedTarget \"ESO 301-G08\" at SkyCoord (ICRS): (ra, dec) in deg ( 50.59455, -37.39764)>,\n",
       " <FixedTarget \"NGC 1316\" at SkyCoord (ICRS): (ra, dec) in deg ( 50.6739, -37.20821)>,\n",
       " <FixedTarget \"FCC 0046\" at SkyCoord (ICRS): (ra, dec) in deg ( 51.6042, -37.12806)>,\n",
       " <FixedTarget \"FCC 0025\" at SkyCoord (ICRS): (ra, dec) in deg ( 50.88915, -36.98389)>,\n",
       " <FixedTarget \"FCC 303\" at SkyCoord (ICRS): (ra, dec) in deg ( 56.3088, -36.93679)>,\n",
       " <FixedTarget \"NGC 1460\" at SkyCoord (ICRS): (ra, dec) in deg ( 56.5572, -36.6964)>,\n",
       " <FixedTarget \"NGC 5102\" at SkyCoord (ICRS): (ra, dec) in deg ( 200.49015, -36.6301)>,\n",
       " <FixedTarget \"FCC 238\" at SkyCoord (ICRS): (ra, dec) in deg ( 55.0713, -36.5346)>,\n",
       " <FixedTarget \"ESO 358-G66\" at SkyCoord (ICRS): (ra, dec) in deg ( 56.9694, -36.47167)>,\n",
       " <FixedTarget \"IC 1459\" at SkyCoord (ICRS): (ra, dec) in deg ( 344.2941, -36.46218)>,\n",
       " <FixedTarget \"FCC 316\" at SkyCoord (ICRS): (ra, dec) in deg ( 56.7558, -36.43752)>,\n",
       " <FixedTarget \"FCC 150\" at SkyCoord (ICRS): (ra, dec) in deg ( 53.85045, -36.36389)>,\n",
       " <FixedTarget \"FCC 90\" at SkyCoord (ICRS): (ra, dec) in deg ( 52.7844, -36.29007)>,\n",
       " <FixedTarget \"FCC 246\" at SkyCoord (ICRS): (ra, dec) in deg ( 55.1571, -36.121)>,\n",
       " <FixedTarget \"ESO 358-G59\" at SkyCoord (ICRS): (ra, dec) in deg ( 56.265, -35.9727)>,\n",
       " <FixedTarget \"IC 2006\" at SkyCoord (ICRS): (ra, dec) in deg ( 58.61865, -35.9672)>,\n",
       " <FixedTarget \"ESO 359-G02\" at SkyCoord (ICRS): (ra, dec) in deg ( 57.65295, -35.90937)>,\n",
       " <FixedTarget \"ESO 357-G25\" at SkyCoord (ICRS): (ra, dec) in deg ( 50.9052, -35.77837)>,\n",
       " <FixedTarget \"NGC 1389\" at SkyCoord (ICRS): (ra, dec) in deg ( 54.2988, -35.74602)>,\n",
       " <FixedTarget \"FCC 254\" at SkyCoord (ICRS): (ra, dec) in deg ( 55.2534, -35.74252)>,\n",
       " <FixedTarget \"NGC 1336\" at SkyCoord (ICRS): (ra, dec) in deg ( 51.6342, -35.71366)>,\n",
       " <FixedTarget \"NGC 1427A\" at SkyCoord (ICRS): (ra, dec) in deg ( 55.03875, -35.62451)>,\n",
       " <FixedTarget \"NGC 3258\" at SkyCoord (ICRS): (ra, dec) in deg ( 157.22325, -35.60538)>,\n",
       " <FixedTarget \"NGC 1404\" at SkyCoord (ICRS): (ra, dec) in deg ( 54.71625, -35.59424)>,\n",
       " <FixedTarget \"FCC 136\" at SkyCoord (ICRS): (ra, dec) in deg ( 53.6229, -35.54649)>,\n",
       " <FixedTarget \"NGC 1387\" at SkyCoord (ICRS): (ra, dec) in deg ( 54.23775, -35.50663)>,\n",
       " <FixedTarget \"NGC 1399\" at SkyCoord (ICRS): (ra, dec) in deg ( 54.62115, -35.45063)>,\n",
       " <FixedTarget \"NGC 1379\" at SkyCoord (ICRS): (ra, dec) in deg ( 54.0159, -35.44116)>,\n",
       " <FixedTarget \"NGC 1427\" at SkyCoord (ICRS): (ra, dec) in deg ( 55.58085, -35.39278)>,\n",
       " <FixedTarget \"FCC 182\" at SkyCoord (ICRS): (ra, dec) in deg ( 54.2262, -35.37464)>,\n",
       " <FixedTarget \"FCC 95\" at SkyCoord (ICRS): (ra, dec) in deg ( 52.8534, -35.33108)>,\n",
       " <FixedTarget \"NGC 3268\" at SkyCoord (ICRS): (ra, dec) in deg ( 157.503, -35.32556)>,\n",
       " <FixedTarget \"FCC 146\" at SkyCoord (ICRS): (ra, dec) in deg ( 53.7984, -35.32295)>,\n",
       " <FixedTarget \"NGC 1381\" at SkyCoord (ICRS): (ra, dec) in deg ( 54.13215, -35.29521)>,\n",
       " <FixedTarget \"NGC 1375\" at SkyCoord (ICRS): (ra, dec) in deg ( 53.82015, -35.26562)>,\n",
       " <FixedTarget \"NGC 1374\" at SkyCoord (ICRS): (ra, dec) in deg ( 53.8191, -35.22633)>,\n",
       " <FixedTarget \"NGC 1380B\" at SkyCoord (ICRS): (ra, dec) in deg ( 54.2874, -35.1951)>,\n",
       " <FixedTarget \"NGC 1428\" at SkyCoord (ICRS): (ra, dec) in deg ( 55.5957, -35.15338)>,\n",
       " <FixedTarget \"FCC 100\" at SkyCoord (ICRS): (ra, dec) in deg ( 52.9485, -35.05186)>,\n",
       " <FixedTarget \"NGC 1380\" at SkyCoord (ICRS): (ra, dec) in deg ( 54.1149, -34.97613)>,\n",
       " <FixedTarget \"NGC 1351\" at SkyCoord (ICRS): (ra, dec) in deg ( 52.64565, -34.85402)>,\n",
       " <FixedTarget \"NGC 1380A\" at SkyCoord (ICRS): (ra, dec) in deg ( 54.19785, -34.73962)>,\n",
       " <FixedTarget \"FCC 189\" at SkyCoord (ICRS): (ra, dec) in deg ( 54.28395, -34.73136)>,\n",
       " <FixedTarget \"ESO 358-G06\" at SkyCoord (ICRS): (ra, dec) in deg ( 51.82515, -34.52639)>,\n",
       " <FixedTarget \"ESO 358-G42\" at SkyCoord (ICRS): (ra, dec) in deg ( 54.5382, -34.51858)>,\n",
       " <FixedTarget \"Fornax dE\" at SkyCoord (ICRS): (ra, dec) in deg ( 39.99705, -34.44917)>,\n",
       " <FixedTarget \"ESO 358-G26\" at SkyCoord (ICRS): (ra, dec) in deg ( 53.87895, -34.44708)>,\n",
       " <FixedTarget \"FCC 106\" at SkyCoord (ICRS): (ra, dec) in deg ( 53.1987, -34.23869)>,\n",
       " <FixedTarget \"IC 4296\" at SkyCoord (ICRS): (ra, dec) in deg ( 204.16275, -33.96582)>,\n",
       " <FixedTarget \"ESO 358-G56\" at SkyCoord (ICRS): (ra, dec) in deg ( 55.84425, -33.94002)>,\n",
       " <FixedTarget \"ESO 358-G50\" at SkyCoord (ICRS): (ra, dec) in deg ( 55.2651, -33.77946)>,\n",
       " <FixedTarget \"FCC 119\" at SkyCoord (ICRS): (ra, dec) in deg ( 53.3913, -33.57324)>,\n",
       " <FixedTarget \"FCC 0059\" at SkyCoord (ICRS): (ra, dec) in deg ( 51.9441, -33.56417)>,\n",
       " <FixedTarget \"NGC 5193\" at SkyCoord (ICRS): (ra, dec) in deg ( 202.97295, -33.23393)>,\n",
       " <FixedTarget \"ESO 358-G43\" at SkyCoord (ICRS): (ra, dec) in deg ( 54.5568, -33.12725)>,\n",
       " <FixedTarget \"FCC 174\" at SkyCoord (ICRS): (ra, dec) in deg ( 54.189, -33.01486)>,\n",
       " <FixedTarget \"ESO 358-G01\" at SkyCoord (ICRS): (ra, dec) in deg ( 51.5094, -32.89445)>,\n",
       " <FixedTarget \"IC 1919\" at SkyCoord (ICRS): (ra, dec) in deg ( 51.5094, -32.89445)>,\n",
       " <FixedTarget \"ESO 383-G076\" at SkyCoord (ICRS): (ra, dec) in deg ( 206.8683, -32.86497)>,\n",
       " <FixedTarget \"NGC 7793\" at SkyCoord (ICRS): (ra, dec) in deg ( 359.4573, -32.59104)>,\n",
       " <FixedTarget \"ESO 358-G25\" at SkyCoord (ICRS): (ra, dec) in deg ( 53.88795, -32.46491)>,\n",
       " <FixedTarget \"NGC 1339\" at SkyCoord (ICRS): (ra, dec) in deg ( 52.02735, -32.28607)>,\n",
       " <FixedTarget \"NGC 7173\" at SkyCoord (ICRS): (ra, dec) in deg ( 330.5139, -31.97372)>,\n",
       " <FixedTarget \"KK 246\" at SkyCoord (ICRS): (ra, dec) in deg ( 300.9891, -31.68167)>,\n",
       " <FixedTarget \"ESO 444-G046\" at SkyCoord (ICRS): (ra, dec) in deg ( 201.987, -31.49546)>,\n",
       " <FixedTarget \"NGC 1344\" at SkyCoord (ICRS): (ra, dec) in deg ( 52.0818, -31.06812)>,\n",
       " <FixedTarget \"Sagittarius dE\" at SkyCoord (ICRS): (ra, dec) in deg ( 283.8312, -30.54528)>,\n",
       " <FixedTarget \"IC 4329\" at SkyCoord (ICRS): (ra, dec) in deg ( 207.2721, -30.29573)>,\n",
       " <FixedTarget \"NGC 5236\" at SkyCoord (ICRS): (ra, dec) in deg ( 204.25365, -29.86556)>,\n",
       " <FixedTarget \"NGC 3923\" at SkyCoord (ICRS): (ra, dec) in deg ( 177.75735, -28.80597)>,\n",
       " <FixedTarget \"NGC 4980\" at SkyCoord (ICRS): (ra, dec) in deg ( 197.29215, -28.64166)>,\n",
       " <FixedTarget \"NGC 3056\" at SkyCoord (ICRS): (ra, dec) in deg ( 148.63695, -28.29805)>,\n",
       " <FixedTarget \"NGC 3311\" at SkyCoord (ICRS): (ra, dec) in deg ( 159.1782, -27.52788)>,\n",
       " <FixedTarget \"ESO 509-G008\" at SkyCoord (ICRS): (ra, dec) in deg ( 201.68385, -27.4393)>,\n",
       " <FixedTarget \"ESO 499-037\" at SkyCoord (ICRS): (ra, dec) in deg ( 150.9243, -27.0278)>,\n",
       " <FixedTarget \"NGC 3585\" at SkyCoord (ICRS): (ra, dec) in deg ( 168.3213, -26.75486)>,\n",
       " <FixedTarget \"NGC 1201\" at SkyCoord (ICRS): (ra, dec) in deg ( 46.0335, -26.06966)>,\n",
       " <FixedTarget \"NGC 253\" at SkyCoord (ICRS): (ra, dec) in deg ( 11.88795, -25.28844)>,\n",
       " <FixedTarget \"ESO 498-005\" at SkyCoord (ICRS): (ra, dec) in deg ( 141.16965, -25.09267)>,\n",
       " <FixedTarget \"NGC 2865\" at SkyCoord (ICRS): (ra, dec) in deg ( 140.8758, -23.16161)>,\n",
       " <FixedTarget \"NGC 1426\" at SkyCoord (ICRS): (ra, dec) in deg ( 55.7046, -22.10836)>,\n",
       " <FixedTarget \"NGC 1439\" at SkyCoord (ICRS): (ra, dec) in deg ( 56.2083, -21.92072)>,\n",
       " <FixedTarget \"NGC 1332\" at SkyCoord (ICRS): (ra, dec) in deg ( 51.57165, -21.33528)>,\n",
       " <FixedTarget \"NGC 247\" at SkyCoord (ICRS): (ra, dec) in deg ( 11.78565, -20.76045)>,\n",
       " <FixedTarget \"NGC 5018\" at SkyCoord (ICRS): (ra, dec) in deg ( 198.25425, -19.5182)>,\n",
       " <FixedTarget \"NGC 2758\" at SkyCoord (ICRS): (ra, dec) in deg ( 136.38015, -19.04277)>,\n",
       " <FixedTarget \"NGC 1400\" at SkyCoord (ICRS): (ra, dec) in deg ( 54.87855, -18.68815)>,\n",
       " <FixedTarget \"NGC 1407\" at SkyCoord (ICRS): (ra, dec) in deg ( 55.0494, -18.58036)>,\n",
       " <FixedTarget \"NGC 5170\" at SkyCoord (ICRS): (ra, dec) in deg ( 202.4532, -17.9665)>,\n",
       " <FixedTarget \"NGC 4033\" at SkyCoord (ICRS): (ra, dec) in deg ( 180.1443, -17.84247)>,\n",
       " <FixedTarget \"NGC 1345\" at SkyCoord (ICRS): (ra, dec) in deg ( 52.38195, -17.77839)>,\n",
       " <FixedTarget \"A1644 1\" at SkyCoord (ICRS): (ra, dec) in deg ( 194.2983, -17.40944)>,\n",
       " <FixedTarget \"WLM\" at SkyCoord (ICRS): (ra, dec) in deg ( 0.4926, -15.46093)>,\n",
       " <FixedTarget \"NGC 1172\" at SkyCoord (ICRS): (ra, dec) in deg ( 45.4002, -14.83661)>,\n",
       " <FixedTarget \"NGC 6822\" at SkyCoord (ICRS): (ra, dec) in deg ( 296.2374, -14.80034)>,\n",
       " <FixedTarget \"NGC 2902\" at SkyCoord (ICRS): (ra, dec) in deg ( 142.7205, -14.73588)>,\n",
       " <FixedTarget \"NGC 720\" at SkyCoord (ICRS): (ra, dec) in deg ( 28.2522, -13.73858)>,\n",
       " <FixedTarget \"NGC 7727\" at SkyCoord (ICRS): (ra, dec) in deg ( 354.9744, -12.29284)>,\n",
       " <FixedTarget \"NGC 4594\" at SkyCoord (ICRS): (ra, dec) in deg ( 189.99765, -11.62301)>,\n",
       " <FixedTarget \"A754 1\" at SkyCoord (ICRS): (ra, dec) in deg ( 137.13495, -9.63)>,\n",
       " <FixedTarget \"A754 2\" at SkyCoord (ICRS): (ra, dec) in deg ( 137.1621, -9.62525)>,\n",
       " <FixedTarget \"NGC 1052\" at SkyCoord (ICRS): (ra, dec) in deg ( 40.2699, -8.2558)>,\n",
       " <FixedTarget \"NGC 3115DW1\" at SkyCoord (ICRS): (ra, dec) in deg ( 151.42335, -7.98139)>,\n",
       " <FixedTarget \"NGC 3115\" at SkyCoord (ICRS): (ra, dec) in deg ( 151.30815, -7.71856)>,\n",
       " <FixedTarget \"NGC 584\" at SkyCoord (ICRS): (ra, dec) in deg ( 22.8363, -6.86805)>,\n",
       " <FixedTarget \"NGC 3818\" at SkyCoord (ICRS): (ra, dec) in deg ( 175.48905, -6.15558)>,\n",
       " <FixedTarget \"NGC 4697\" at SkyCoord (ICRS): (ra, dec) in deg ( 192.15, -5.8006)>,\n",
       " <FixedTarget \"NGC 1600\" at SkyCoord (ICRS): (ra, dec) in deg ( 67.9161, -5.08608)>,\n",
       " <FixedTarget \"NGC 1700\" at SkyCoord (ICRS): (ra, dec) in deg ( 74.2347, -4.86597)>,\n",
       " <FixedTarget \"NGC 541\" at SkyCoord (ICRS): (ra, dec) in deg ( 21.4347, -1.37949)>,\n",
       " <FixedTarget \"A1689 BCG\" at SkyCoord (ICRS): (ra, dec) in deg ( 197.87295, -1.33806)>,\n",
       " <FixedTarget \"NGC 1132\" at SkyCoord (ICRS): (ra, dec) in deg ( 43.21575, -1.27464)>,\n",
       " <FixedTarget \"NGC 4517\" at SkyCoord (ICRS): (ra, dec) in deg ( 188.18955,  0.11462)>,\n",
       " <FixedTarget \"NGC 1055\" at SkyCoord (ICRS): (ra, dec) in deg ( 40.4373,  0.44318)>,\n",
       " <FixedTarget \"NGC 5846\" at SkyCoord (ICRS): (ra, dec) in deg ( 226.6218,  1.60629)>,\n",
       " <FixedTarget \"NGC 5845\" at SkyCoord (ICRS): (ra, dec) in deg ( 226.5033,  1.63397)>,\n",
       " <FixedTarget \"NGC 5813\" at SkyCoord (ICRS): (ra, dec) in deg ( 225.297,  1.70201)>,\n",
       " <FixedTarget \"NGC 4073\" at SkyCoord (ICRS): (ra, dec) in deg ( 181.11285,  1.89593)>,\n",
       " <FixedTarget \"NGC 4636\" at SkyCoord (ICRS): (ra, dec) in deg ( 190.707,  2.68762)>,\n",
       " <FixedTarget \"NGC 3156\" at SkyCoord (ICRS): (ra, dec) in deg ( 153.1719,  3.12934)>,\n",
       " <FixedTarget \"NGC 474\" at SkyCoord (ICRS): (ra, dec) in deg ( 20.02785,  3.41534)>,\n",
       " <FixedTarget \"VCC 1530\" at SkyCoord (ICRS): (ra, dec) in deg ( 188.48205,  5.71859)>,\n",
       " <FixedTarget \"NGC 4261\" at SkyCoord (ICRS): (ra, dec) in deg ( 184.8459,  5.82504)>,\n",
       " <FixedTarget \"UGC 3274\" at SkyCoord (ICRS): (ra, dec) in deg ( 79.1538,  6.4417)>,\n",
       " <FixedTarget \"CGCG 421-019\" at SkyCoord (ICRS): (ra, dec) in deg ( 79.22985,  6.55247)>,\n",
       " <FixedTarget \"UGC 9799\" at SkyCoord (ICRS): (ra, dec) in deg ( 229.1856,  7.02146)>,\n",
       " <FixedTarget \"NGC 6384\" at SkyCoord (ICRS): (ra, dec) in deg ( 263.1009,  7.0603)>,\n",
       " <FixedTarget \"NGC 4309A\" at SkyCoord (ICRS): (ra, dec) in deg ( 185.56125,  7.16722)>,\n",
       " <FixedTarget \"NGC 4570\" at SkyCoord (ICRS): (ra, dec) in deg ( 189.2226,  7.2467)>,\n",
       " <FixedTarget \"NGC 4612\" at SkyCoord (ICRS): (ra, dec) in deg ( 190.38645,  7.31485)>,\n",
       " <FixedTarget \"NGC 4365\" at SkyCoord (ICRS): (ra, dec) in deg ( 186.11775,  7.31758)>,\n",
       " <FixedTarget \"VCC 1107\" at SkyCoord (ICRS): (ra, dec) in deg ( 187.12635,  7.32525)>,\n",
       " <FixedTarget \"VCC 1311\" at SkyCoord (ICRS): (ra, dec) in deg ( 187.6971,  7.60576)>,\n",
       " <FixedTarget \"NGC 4623\" at SkyCoord (ICRS): (ra, dec) in deg ( 190.5447,  7.67692)>,\n",
       " <FixedTarget \"NGC 4526\" at SkyCoord (ICRS): (ra, dec) in deg ( 188.51265,  7.69921)>,\n",
       " <FixedTarget \"VCC 1333\" at SkyCoord (ICRS): (ra, dec) in deg ( 187.7547,  7.7233)>,\n",
       " <FixedTarget \"IC 3131\" at SkyCoord (ICRS): (ra, dec) in deg ( 184.7118,  7.86164)>,\n",
       " <FixedTarget \"VCC 1514\" at SkyCoord (ICRS): (ra, dec) in deg ( 188.4072,  7.87319)>,\n",
       " <FixedTarget \"VCC 1167\" at SkyCoord (ICRS): (ra, dec) in deg ( 187.3008,  7.8787)>,\n",
       " <FixedTarget \"VCC 571\" at SkyCoord (ICRS): (ra, dec) in deg ( 185.6715,  7.95036)>,\n",
       " <FixedTarget \"NGC 4472\" at SkyCoord (ICRS): (ra, dec) in deg ( 187.44495,  8.00039)>,\n",
       " <FixedTarget \"VCC 1254\" at SkyCoord (ICRS): (ra, dec) in deg ( 187.52145,  8.0738)>,\n",
       " <FixedTarget \"VCC 1049\" at SkyCoord (ICRS): (ra, dec) in deg ( 186.97845,  8.09047)>,\n",
       " <FixedTarget \"NGC 4434\" at SkyCoord (ICRS): (ra, dec) in deg ( 186.90285,  8.15431)>,\n",
       " <FixedTarget \"NGC 4464\" at SkyCoord (ICRS): (ra, dec) in deg ( 187.33875,  8.15656)>,\n",
       " <FixedTarget \"NGC 4318\" at SkyCoord (ICRS): (ra, dec) in deg ( 185.68035,  8.19827)>,\n",
       " <FixedTarget \"VCC 992\" at SkyCoord (ICRS): (ra, dec) in deg ( 186.82785,  8.21285)>,\n",
       " <FixedTarget \"NGC 7626\" at SkyCoord (ICRS): (ra, dec) in deg ( 350.1771,  8.21706)>,\n",
       " <FixedTarget \"VCC 503\" at SkyCoord (ICRS): (ra, dec) in deg ( 185.45925,  8.541)>,\n",
       " <FixedTarget \"VCC 747\" at SkyCoord (ICRS): (ra, dec) in deg ( 186.19905,  8.99153)>,\n",
       " <FixedTarget \"NGC 4483\" at SkyCoord (ICRS): (ra, dec) in deg ( 187.66935,  9.01565)>,\n",
       " <FixedTarget \"IC 3487\" at SkyCoord (ICRS): (ra, dec) in deg ( 188.3061,  9.39724)>,\n",
       " <FixedTarget \"VCC 1895\" at SkyCoord (ICRS): (ra, dec) in deg ( 190.46655,  9.40291)>,\n",
       " <FixedTarget \"VCC 1252\" at SkyCoord (ICRS): (ra, dec) in deg ( 187.5084,  9.47434)>,\n",
       " <FixedTarget \"NGC 524\" at SkyCoord (ICRS): (ra, dec) in deg ( 21.19875,  9.53878)>,\n",
       " <FixedTarget \"NGC 4578\" at SkyCoord (ICRS): (ra, dec) in deg ( 189.37725,  9.55511)>,\n",
       " <FixedTarget \"NGC 4417\" at SkyCoord (ICRS): (ra, dec) in deg ( 186.71085,  9.58424)>,\n",
       " <FixedTarget \"NGC 4417\" at SkyCoord (ICRS): (ra, dec) in deg ( 186.71085,  9.58424)>,\n",
       " <FixedTarget \"NGC 4442\" at SkyCoord (ICRS): (ra, dec) in deg ( 187.01625,  9.80368)>,\n",
       " <FixedTarget \"VCC 529\" at SkyCoord (ICRS): (ra, dec) in deg ( 185.53575,  9.8945)>,\n",
       " <FixedTarget \"IC 3633\" at SkyCoord (ICRS): (ra, dec) in deg ( 190.04685,  9.89611)>,\n",
       " <FixedTarget \"IC 3328\" at SkyCoord (ICRS): (ra, dec) in deg ( 186.4911,  10.05374)>,\n",
       " <FixedTarget \"IC 3602\" at SkyCoord (ICRS): (ra, dec) in deg ( 189.52875,  10.08245)>,\n",
       " <FixedTarget \"IC 3025\" at SkyCoord (ICRS): (ra, dec) in deg ( 182.5962,  10.18847)>,\n",
       " <FixedTarget \"IC 3773\" at SkyCoord (ICRS): (ra, dec) in deg ( 191.8137,  10.20355)>,\n",
       " <FixedTarget \"IC 3468\" at SkyCoord (ICRS): (ra, dec) in deg ( 188.0592,  10.25147)>,\n",
       " <FixedTarget \"IC 3383\" at SkyCoord (ICRS): (ra, dec) in deg ( 187.05135,  10.29771)>,\n",
       " <FixedTarget \"VCC 1661\" at SkyCoord (ICRS): (ra, dec) in deg ( 189.1032,  10.38467)>,\n",
       " <FixedTarget \"IC 3647\" at SkyCoord (ICRS): (ra, dec) in deg ( 190.2213,  10.47611)>,\n",
       " <FixedTarget \"UGC 3755\" at SkyCoord (ICRS): (ra, dec) in deg ( 108.4653,  10.52106)>,\n",
       " <FixedTarget \"VCC 949\" at SkyCoord (ICRS): (ra, dec) in deg ( 186.72705,  10.66578)>,\n",
       " <FixedTarget \"VCC 1948\" at SkyCoord (ICRS): (ra, dec) in deg ( 190.7418,  10.68193)>,\n",
       " <FixedTarget \"NGC 4482\" at SkyCoord (ICRS): (ra, dec) in deg ( 187.5432,  10.77951)>,\n",
       " <FixedTarget \"IC 3490\" at SkyCoord (ICRS): (ra, dec) in deg ( 188.3079,  10.92855)>,\n",
       " <FixedTarget \"VCC 1363\" at SkyCoord (ICRS): (ra, dec) in deg ( 187.8645,  10.9361)>,\n",
       " <FixedTarget \"NGC 821\" at SkyCoord (ICRS): (ra, dec) in deg ( 32.088,  10.99501)>,\n",
       " <FixedTarget \"IC 613\" at SkyCoord (ICRS): (ra, dec) in deg ( 156.7824,  11.01068)>,\n",
       " <FixedTarget \"IC 3652\" at SkyCoord (ICRS): (ra, dec) in deg ( 190.2441,  11.18444)>,\n",
       " <FixedTarget \"NGC 4660\" at SkyCoord (ICRS): (ra, dec) in deg ( 191.13315,  11.19053)>,\n",
       " <FixedTarget \"NGC 4352\" at SkyCoord (ICRS): (ra, dec) in deg ( 186.02085,  11.21806)>,\n",
       " <FixedTarget \"NGC 4762\" at SkyCoord (ICRS): (ra, dec) in deg ( 193.233,  11.23077)>,\n",
       " <FixedTarget \"VCC 1512\" at SkyCoord (ICRS): (ra, dec) in deg ( 188.39445,  11.26194)>,\n",
       " <FixedTarget \"IC 3470\" at SkyCoord (ICRS): (ra, dec) in deg ( 188.0973,  11.26291)>,\n",
       " <FixedTarget \"NGC 4754\" at SkyCoord (ICRS): (ra, dec) in deg ( 193.0731,  11.31364)>,\n",
       " <FixedTarget \"NGC 4528\" at SkyCoord (ICRS): (ra, dec) in deg ( 188.5254,  11.32123)>,\n",
       " <FixedTarget \"VCC 1308\" at SkyCoord (ICRS): (ra, dec) in deg ( 187.69125,  11.34322)>,\n",
       " <FixedTarget \"IC 3653\" at SkyCoord (ICRS): (ra, dec) in deg ( 190.3155,  11.38724)>,\n",
       " <FixedTarget \"NGC 4564\" at SkyCoord (ICRS): (ra, dec) in deg ( 189.11235,  11.4394)>,\n",
       " <FixedTarget \"NGC 4638\" at SkyCoord (ICRS): (ra, dec) in deg ( 190.69755,  11.44244)>,\n",
       " <FixedTarget \"NGC 4649\" at SkyCoord (ICRS): (ra, dec) in deg ( 190.91685,  11.55267)>,\n",
       " <FixedTarget \"NGC 4621\" at SkyCoord (ICRS): (ra, dec) in deg ( 190.5096,  11.64731)>,\n",
       " <FixedTarget \"NGC 4371\" at SkyCoord (ICRS): (ra, dec) in deg ( 186.23085,  11.70428)>,\n",
       " <FixedTarget \"IC 809\" at SkyCoord (ICRS): (ra, dec) in deg ( 190.53615,  11.75432)>,\n",
       " <FixedTarget \"VCC 452\" at SkyCoord (ICRS): (ra, dec) in deg ( 185.26995,  11.7547)>,\n",
       " <FixedTarget \"NGC 4452\" at SkyCoord (ICRS): (ra, dec) in deg ( 187.18035,  11.75506)>,\n",
       " <FixedTarget \"IC 3381\" at SkyCoord (ICRS): (ra, dec) in deg ( 187.06215,  11.78983)>,\n",
       " <FixedTarget \"IC 3461\" at SkyCoord (ICRS): (ra, dec) in deg ( 188.0115,  11.89002)>,\n",
       " <FixedTarget \"IC 3101\" at SkyCoord (ICRS): (ra, dec) in deg ( 184.33185,  11.94351)>,\n",
       " <FixedTarget \"IC 3509\" at SkyCoord (ICRS): (ra, dec) in deg ( 188.54805,  12.04898)>,\n",
       " <FixedTarget \"VCC 1073\" at SkyCoord (ICRS): (ra, dec) in deg ( 187.03575,  12.09329)>,\n",
       " <FixedTarget \"IC 3779\" at SkyCoord (ICRS): (ra, dec) in deg ( 191.8356,  12.16655)>,\n",
       " <FixedTarget \"NGC 4550\" at SkyCoord (ICRS): (ra, dec) in deg ( 188.87685,  12.22119)>,\n",
       " <FixedTarget \"VCC 1886\" at SkyCoord (ICRS): (ra, dec) in deg ( 190.4142,  12.24738)>,\n",
       " <FixedTarget \"NGC 4551\" at SkyCoord (ICRS): (ra, dec) in deg ( 188.9082,  12.26397)>,\n",
       " <FixedTarget \"NGC 4486A\" at SkyCoord (ICRS): (ra, dec) in deg ( 187.74045,  12.27033)>,\n",
       " <FixedTarget \"NGC 4431\" at SkyCoord (ICRS): (ra, dec) in deg ( 186.864,  12.29031)>,\n",
       " <FixedTarget \"NGC 4478\" at SkyCoord (ICRS): (ra, dec) in deg ( 187.5741,  12.3268)>,\n",
       " <FixedTarget \"NGC 4476\" at SkyCoord (ICRS): (ra, dec) in deg ( 187.49625,  12.34863)>,\n",
       " <FixedTarget \"VCC 1627\" at SkyCoord (ICRS): (ra, dec) in deg ( 188.9052,  12.38204)>,\n",
       " <FixedTarget \"NGC 4486\" at SkyCoord (ICRS): (ra, dec) in deg ( 187.7058,  12.39122)>,\n",
       " <FixedTarget \"VCC 1185\" at SkyCoord (ICRS): (ra, dec) in deg ( 187.34805,  12.45067)>,\n",
       " <FixedTarget \"VCC 940\" at SkyCoord (ICRS): (ra, dec) in deg ( 186.69615,  12.45405)>,\n",
       " <FixedTarget \"NGC 4486B\" at SkyCoord (ICRS): (ra, dec) in deg ( 187.6332,  12.49022)>,\n",
       " <FixedTarget \"IC 3586\" at SkyCoord (ICRS): (ra, dec) in deg ( 189.2283,  12.52004)>,\n",
       " <FixedTarget \"NGC 4552\" at SkyCoord (ICRS): (ra, dec) in deg ( 188.916,  12.55611)>,\n",
       " <FixedTarget \"VCC 871\" at SkyCoord (ICRS): (ra, dec) in deg ( 186.5235,  12.55967)>,\n",
       " <FixedTarget \"VCC 965\" at SkyCoord (ICRS): (ra, dec) in deg ( 186.76305,  12.56054)>,\n",
       " <FixedTarget \"NGC 3379\" at SkyCoord (ICRS): (ra, dec) in deg ( 161.95665,  12.58161)>,\n",
       " <FixedTarget \"NGC 3384\" at SkyCoord (ICRS): (ra, dec) in deg ( 162.0705,  12.6294)>,\n",
       " <FixedTarget \"VCC 1386\" at SkyCoord (ICRS): (ra, dec) in deg ( 187.9641,  12.65666)>,\n",
       " <FixedTarget \"VCC 1386\" at SkyCoord (ICRS): (ra, dec) in deg ( 187.9641,  12.65666)>,\n",
       " <FixedTarget \"VCC 1539\" at SkyCoord (ICRS): (ra, dec) in deg ( 188.5281,  12.74156)>,\n",
       " <FixedTarget \"IC 3540\" at SkyCoord (ICRS): (ra, dec) in deg ( 188.86335,  12.75031)>,\n",
       " <FixedTarget \"VCC 896\" at SkyCoord (ICRS): (ra, dec) in deg ( 186.59415,  12.78663)>,\n",
       " <FixedTarget \"NGC 4267\" at SkyCoord (ICRS): (ra, dec) in deg ( 184.9389,  12.79842)>,\n",
       " <FixedTarget \"VCC 1077\" at SkyCoord (ICRS): (ra, dec) in deg ( 187.04295,  12.8068)>,\n",
       " <FixedTarget \"NGC 4387\" at SkyCoord (ICRS): (ra, dec) in deg ( 186.42375,  12.81045)>,\n",
       " <FixedTarget \"VCC 1104\" at SkyCoord (ICRS): (ra, dec) in deg ( 187.1169,  12.82366)>,\n",
       " <FixedTarget \"CGCG 065-015\" at SkyCoord (ICRS): (ra, dec) in deg ( 155.84895,  12.83507)>,\n",
       " <FixedTarget \"IC 3492\" at SkyCoord (ICRS): (ra, dec) in deg ( 188.3325,  12.85356)>,\n",
       " <FixedTarget \"IC 3635\" at SkyCoord (ICRS): (ra, dec) in deg ( 190.0557,  12.87487)>,\n",
       " <FixedTarget \"NGC 4374\" at SkyCoord (ICRS): (ra, dec) in deg ( 186.2652,  12.88707)>,\n",
       " <FixedTarget \"NGC 4406\" at SkyCoord (ICRS): (ra, dec) in deg ( 186.549,  12.94611)>,\n",
       " <FixedTarget \"VCC 200\" at SkyCoord (ICRS): (ra, dec) in deg ( 184.14045,  13.03142)>,\n",
       " <FixedTarget \"NGC 4435\" at SkyCoord (ICRS): (ra, dec) in deg ( 186.9186,  13.0789)>,\n",
       " <FixedTarget \"NGC 4216\" at SkyCoord (ICRS): (ra, dec) in deg ( 183.97635,  13.14958)>,\n",
       " <FixedTarget \"NGC 4458\" at SkyCoord (ICRS): (ra, dec) in deg ( 187.23975,  13.24183)>,\n",
       " <FixedTarget \"VCC 1272\" at SkyCoord (ICRS): (ra, dec) in deg ( 187.56675,  13.30751)>,\n",
       " <FixedTarget \"IC 3501\" at SkyCoord (ICRS): (ra, dec) in deg ( 188.4651,  13.32253)>,\n",
       " <FixedTarget \"LGC 0050\" at SkyCoord (ICRS): (ra, dec) in deg ( 162.7563,  13.33333)>,\n",
       " <FixedTarget \"NGC 4473\" at SkyCoord (ICRS): (ra, dec) in deg ( 187.45365,  13.4294)>,\n",
       " <FixedTarget \"NGC 4479\" at SkyCoord (ICRS): (ra, dec) in deg ( 187.57665,  13.57756)>,\n",
       " <FixedTarget \"IC 3735\" at SkyCoord (ICRS): (ra, dec) in deg ( 191.33505,  13.69285)>,\n",
       " <FixedTarget \"NGC 3489\" at SkyCoord (ICRS): (ra, dec) in deg ( 165.0774,  13.90119)>,\n",
       " <FixedTarget \"NGC 4459\" at SkyCoord (ICRS): (ra, dec) in deg ( 187.2501,  13.97856)>,\n",
       " <FixedTarget \"NGC 3377\" at SkyCoord (ICRS): (ra, dec) in deg ( 161.9265,  13.98564)>,\n",
       " <FixedTarget \"IC 3019\" at SkyCoord (ICRS): (ra, dec) in deg ( 182.34285,  13.99241)>,\n",
       " <FixedTarget \"NGC 4474\" at SkyCoord (ICRS): (ra, dec) in deg ( 187.47315,  14.06862)>,\n",
       " <FixedTarget \"IC 3442\" at SkyCoord (ICRS): (ra, dec) in deg ( 187.8342,  14.1151)>,\n",
       " <FixedTarget \"VCC 1105\" at SkyCoord (ICRS): (ra, dec) in deg ( 187.11435,  14.15574)>,\n",
       " <FixedTarget \"IC 3032\" at SkyCoord (ICRS): (ra, dec) in deg ( 182.7822,  14.27492)>,\n",
       " <FixedTarget \"VCC 1714\" at SkyCoord (ICRS): (ra, dec) in deg ( 189.3567,  14.3134)>,\n",
       " <FixedTarget \"VCC 240\" at SkyCoord (ICRS): (ra, dec) in deg ( 184.38045,  14.3556)>,\n",
       " <FixedTarget \"UGC 4115\" at SkyCoord (ICRS): (ra, dec) in deg ( 119.259,  14.39101)>,\n",
       " <FixedTarget \"IC 3065\" at SkyCoord (ICRS): (ra, dec) in deg ( 183.8025,  14.43287)>,\n",
       " <FixedTarget \"VCC 1876\" at SkyCoord (ICRS): (ra, dec) in deg ( 190.3356,  14.70066)>,\n",
       " <FixedTarget \"IC 3612\" at SkyCoord (ICRS): (ra, dec) in deg ( 189.76935,  14.73033)>,\n",
       " <FixedTarget \"VCC 543\" at SkyCoord (ICRS): (ra, dec) in deg ( 185.58135,  14.76082)>,\n",
       " <FixedTarget \"NGC 4377\" at SkyCoord (ICRS): (ra, dec) in deg ( 186.30135,  14.76228)>,\n",
       " <FixedTarget \"NGC 4262\" at SkyCoord (ICRS): (ra, dec) in deg ( 184.87755,  14.87758)>,\n",
       " <FixedTarget \"VCC 158\" at SkyCoord (ICRS): (ra, dec) in deg ( 183.91725,  15.00557)>,\n",
       " <FixedTarget \"IC 798\" at SkyCoord (ICRS): (ra, dec) in deg ( 188.1393,  15.41541)>,\n",
       " <FixedTarget \"VCC 1577\" at SkyCoord (ICRS): (ra, dec) in deg ( 188.6601,  15.60278)>,\n",
       " <FixedTarget \"NGC 4379\" at SkyCoord (ICRS): (ra, dec) in deg ( 186.31125,  15.60742)>,\n",
       " <FixedTarget \"UGC 2413\" at SkyCoord (ICRS): (ra, dec) in deg ( 44.1198,  15.91614)>,\n",
       " <FixedTarget \"VCC 1833\" at SkyCoord (ICRS): (ra, dec) in deg ( 190.08195,  15.93522)>,\n",
       " <FixedTarget \"UGC 10143\" at SkyCoord (ICRS): (ra, dec) in deg ( 240.5709,  15.97456)>,\n",
       " <FixedTarget \"A2147 1\" at SkyCoord (ICRS): (ra, dec) in deg ( 240.5709,  15.97472)>,\n",
       " <FixedTarget \"NGC 7814\" at SkyCoord (ICRS): (ra, dec) in deg ( 0.8121,  16.14555)>,\n",
       " <FixedTarget \"NGC 4515\" at SkyCoord (ICRS): (ra, dec) in deg ( 188.2707,  16.2655)>,\n",
       " <FixedTarget \"A2152 1\" at SkyCoord (ICRS): (ra, dec) in deg ( 241.3716,  16.43583)>,\n",
       " <FixedTarget \"A2152 2\" at SkyCoord (ICRS): (ra, dec) in deg ( 241.36005,  16.44278)>,\n",
       " <FixedTarget \"UGC 685\" at SkyCoord (ICRS): (ra, dec) in deg ( 16.8435,  16.68402)>,\n",
       " <FixedTarget \"NGC 4350\" at SkyCoord (ICRS): (ra, dec) in deg ( 185.99085,  16.69347)>,\n",
       " <FixedTarget \"NGC 4340\" at SkyCoord (ICRS): (ra, dec) in deg ( 185.8971,  16.72246)>,\n",
       " <FixedTarget \"NGC 4489\" at SkyCoord (ICRS): (ra, dec) in deg ( 187.71765,  16.75877)>,\n",
       " <FixedTarget \"UGC 3974\" at SkyCoord (ICRS): (ra, dec) in deg ( 115.4808,  16.8025)>,\n",
       " <FixedTarget \"NGC 3455\" at SkyCoord (ICRS): (ra, dec) in deg ( 163.62945,  17.28472)>,\n",
       " <FixedTarget \"VCC 1497\" at SkyCoord (ICRS): (ra, dec) in deg ( 188.3268,  17.4594)>,\n",
       " <FixedTarget \"VCC 437\" at SkyCoord (ICRS): (ra, dec) in deg ( 185.2035,  17.48713)>,\n",
       " <FixedTarget \"NGC 6039\" at SkyCoord (ICRS): (ra, dec) in deg ( 241.1649,  17.70098)>,\n",
       " <FixedTarget \"NGC 6041A\" at SkyCoord (ICRS): (ra, dec) in deg ( 241.14915,  17.72167)>,\n",
       " <FixedTarget \"VCC 646\" at SkyCoord (ICRS): (ra, dec) in deg ( 185.8818,  17.7946)>,\n",
       " <FixedTarget \"NGC 3607\" at SkyCoord (ICRS): (ra, dec) in deg ( 169.2273,  18.0519)>,\n",
       " <FixedTarget \"NGC 3599\" at SkyCoord (ICRS): (ra, dec) in deg ( 168.8625,  18.11033)>,\n",
       " <FixedTarget \"NGC 3608\" at SkyCoord (ICRS): (ra, dec) in deg ( 169.2456,  18.14854)>,\n",
       " <FixedTarget \"NGC 4382\" at SkyCoord (ICRS): (ra, dec) in deg ( 186.35025,  18.19076)>,\n",
       " <FixedTarget \"IC 3292\" at SkyCoord (ICRS): (ra, dec) in deg ( 186.20145,  18.19509)>,\n",
       " <FixedTarget \"NGC 3226\" at SkyCoord (ICRS): (ra, dec) in deg ( 155.86245,  19.89836)>,\n",
       " <FixedTarget \"NGC 3842\" at SkyCoord (ICRS): (ra, dec) in deg ( 176.0091,  19.9497)>,\n",
       " <FixedTarget \"UGC 6203\" at SkyCoord (ICRS): (ra, dec) in deg ( 167.4351,  21.75875)>,\n",
       " <FixedTarget \"UGC 9958\" at SkyCoord (ICRS): (ra, dec) in deg ( 234.91215,  21.78311)>,\n",
       " <FixedTarget \"NGC 6482\" at SkyCoord (ICRS): (ra, dec) in deg ( 267.95325,  23.0719)>,\n",
       " <FixedTarget \"NGC 7339\" at SkyCoord (ICRS): (ra, dec) in deg ( 339.4461,  23.78672)>,\n",
       " <FixedTarget \"NGC 7332\" at SkyCoord (ICRS): (ra, dec) in deg ( 339.3522,  23.79826)>,\n",
       " <FixedTarget \"UGC 8638\" at SkyCoord (ICRS): (ra, dec) in deg ( 204.83145,  24.77522)>,\n",
       " <FixedTarget \"NGC 4494\" at SkyCoord (ICRS): (ra, dec) in deg ( 187.85025,  25.77468)>,\n",
       " <FixedTarget \"NGC 4565\" at SkyCoord (ICRS): (ra, dec) in deg ( 189.08655,  25.98719)>,\n",
       " <FixedTarget \"IC 3651\" at SkyCoord (ICRS): (ra, dec) in deg ( 190.2204,  26.72805)>,\n",
       " <FixedTarget \"NGC 7720\" at SkyCoord (ICRS): (ra, dec) in deg ( 354.6228,  27.03166)>,\n",
       " <FixedTarget \"NGC 4673\" at SkyCoord (ICRS): (ra, dec) in deg ( 191.39445,  27.06077)>,\n",
       " <FixedTarget \"NGC 7768\" at SkyCoord (ICRS): (ra, dec) in deg ( 357.74415,  27.14734)>,\n",
       " <FixedTarget \"NGC 4839\" at SkyCoord (ICRS): (ra, dec) in deg ( 194.35155,  27.4976)>,\n",
       " <FixedTarget \"NGC 4840\" at SkyCoord (ICRS): (ra, dec) in deg ( 194.38665,  27.61027)>,\n",
       " <FixedTarget \"NGC 4926\" at SkyCoord (ICRS): (ra, dec) in deg ( 195.474,  27.62443)>,\n",
       " <FixedTarget \"NGC 4816\" at SkyCoord (ICRS): (ra, dec) in deg ( 194.0505,  27.74543)>,\n",
       " <FixedTarget \"IC 3959\" at SkyCoord (ICRS): (ra, dec) in deg ( 194.78415,  27.78422)>,\n",
       " <FixedTarget \"IC 3976\" at SkyCoord (ICRS): (ra, dec) in deg ( 194.87235,  27.85034)>,\n",
       " <FixedTarget \"NGC 4874\" at SkyCoord (ICRS): (ra, dec) in deg ( 194.8986,  27.95934)>,\n",
       " <FixedTarget \"NGC 3414\" at SkyCoord (ICRS): (ra, dec) in deg ( 162.81735,  27.97483)>,\n",
       " <FixedTarget \"NGC 4889\" at SkyCoord (ICRS): (ra, dec) in deg ( 195.0336,  27.97703)>,\n",
       " <FixedTarget \"NGC 4886\" at SkyCoord (ICRS): (ra, dec) in deg ( 195.0186,  27.9875)>,\n",
       " <FixedTarget \"IC 4041\" at SkyCoord (ICRS): (ra, dec) in deg ( 195.17025,  27.99649)>,\n",
       " <FixedTarget \"IC 4051\" at SkyCoord (ICRS): (ra, dec) in deg ( 195.22695,  28.00747)>,\n",
       " <FixedTarget \"IC 4021\" at SkyCoord (ICRS): (ra, dec) in deg ( 195.0615,  28.04131)>,\n",
       " <FixedTarget \"IC 4026\" at SkyCoord (ICRS): (ra, dec) in deg ( 195.0921,  28.04699)>,\n",
       " <FixedTarget \"PGC 44560\" at SkyCoord (ICRS): (ra, dec) in deg ( 194.80785,  28.0764)>,\n",
       " <FixedTarget \"IC 4012\" at SkyCoord (ICRS): (ra, dec) in deg ( 195.03315,  28.07863)>,\n",
       " <FixedTarget \"IC 4045\" at SkyCoord (ICRS): (ra, dec) in deg ( 195.2028,  28.09079)>,\n",
       " <FixedTarget \"NGC 4881\" at SkyCoord (ICRS): (ra, dec) in deg ( 194.99085,  28.24643)>,\n",
       " <FixedTarget \"NGC 3550\" at SkyCoord (ICRS): (ra, dec) in deg ( 167.6604,  28.76771)>,\n",
       " <FixedTarget \"NGC 784\" at SkyCoord (ICRS): (ra, dec) in deg ( 30.32085,  28.83724)>,\n",
       " <FixedTarget \"NGC 4278\" at SkyCoord (ICRS): (ra, dec) in deg ( 185.0283,  29.28064)>,\n",
       " <FixedTarget \"NGC 6086\" at SkyCoord (ICRS): (ra, dec) in deg ( 243.1482,  29.48448)>,\n",
       " <FixedTarget \"UGC 7369\" at SkyCoord (ICRS): (ra, dec) in deg ( 184.91145,  29.88308)>,\n",
       " <FixedTarget \"NGC 7457\" at SkyCoord (ICRS): (ra, dec) in deg ( 345.24975,  30.14489)>,\n",
       " <FixedTarget \"NGC 4150\" at SkyCoord (ICRS): (ra, dec) in deg ( 182.6403,  30.40157)>,\n",
       " <FixedTarget \"NGC 598\" at SkyCoord (ICRS): (ra, dec) in deg ( 23.4621,  30.65993)>,\n",
       " <FixedTarget \"UGC 1281\" at SkyCoord (ICRS): (ra, dec) in deg ( 27.3849,  32.58622)>,\n",
       " <FixedTarget \"NGC 4203\" at SkyCoord (ICRS): (ra, dec) in deg ( 183.77085,  33.19722)>,\n",
       " <FixedTarget \"NGC 2683\" at SkyCoord (ICRS): (ra, dec) in deg ( 133.17165,  33.4211)>,\n",
       " <FixedTarget \"NGC 2832\" at SkyCoord (ICRS): (ra, dec) in deg ( 139.9449,  33.74957)>,\n",
       " <FixedTarget \"NGC 7331\" at SkyCoord (ICRS): (ra, dec) in deg ( 339.2673,  34.41562)>,\n",
       " <FixedTarget \"NGC 2778\" at SkyCoord (ICRS): (ra, dec) in deg ( 138.1017,  35.02742)>,\n",
       " <FixedTarget \"A2124 1\" at SkyCoord (ICRS): (ra, dec) in deg ( 236.2458,  36.10944)>,\n",
       " <FixedTarget \"NGC 708\" at SkyCoord (ICRS): (ra, dec) in deg ( 28.19385,  36.15195)>,\n",
       " <FixedTarget \"NGC 4163\" at SkyCoord (ICRS): (ra, dec) in deg ( 183.0384,  36.16935)>,\n",
       " <FixedTarget \"NGC 5557\" at SkyCoord (ICRS): (ra, dec) in deg ( 214.6068,  36.49387)>,\n",
       " <FixedTarget \"NGC 1023A\" at SkyCoord (ICRS): (ra, dec) in deg ( 40.1571,  39.05752)>,\n",
       " <FixedTarget \"NGC 1023\" at SkyCoord (ICRS): (ra, dec) in deg ( 40.09995,  39.06325)>,\n",
       " <FixedTarget \"NGC 6166\" at SkyCoord (ICRS): (ra, dec) in deg ( 247.15965,  39.55136)>,\n",
       " <FixedTarget \"NGC 6173\" at SkyCoord (ICRS): (ra, dec) in deg ( 247.43715,  40.81157)>,\n",
       " <FixedTarget \"NGC 221\" at SkyCoord (ICRS): (ra, dec) in deg ( 10.67415,  40.86517)>,\n",
       " <FixedTarget \"NGC 6160\" at SkyCoord (ICRS): (ra, dec) in deg ( 246.92085,  40.92606)>,\n",
       " <FixedTarget \"NGC 224\" at SkyCoord (ICRS): (ra, dec) in deg ( 10.6848,  41.26888)>,\n",
       " <FixedTarget \"NGC 1275\" at SkyCoord (ICRS): (ra, dec) in deg ( 49.95105,  41.51155)>,\n",
       " <FixedTarget \"NGC 205\" at SkyCoord (ICRS): (ra, dec) in deg ( 10.092,  41.68538)>,\n",
       " <FixedTarget \"NGC 910\" at SkyCoord (ICRS): (ra, dec) in deg ( 36.3618,  41.82439)>,\n",
       " <FixedTarget \"DDO 52\" at SkyCoord (ICRS): (ra, dec) in deg ( 127.11855,  41.85661)>,\n",
       " <FixedTarget \"NGC 891\" at SkyCoord (ICRS): (ra, dec) in deg ( 35.6397,  42.34712)>,\n",
       " <FixedTarget \"NGC 4013\" at SkyCoord (ICRS): (ra, dec) in deg ( 179.6307,  43.94676)>,\n",
       " <FixedTarget \"NGC 4449\" at SkyCoord (ICRS): (ra, dec) in deg ( 187.04595,  44.09303)>,\n",
       " <FixedTarget \"NGC 6703\" at SkyCoord (ICRS): (ra, dec) in deg ( 281.8284,  45.55053)>,\n",
       " <FixedTarget \"NGC 5194\" at SkyCoord (ICRS): (ra, dec) in deg ( 202.46955,  47.19515)>,\n",
       " <FixedTarget \"NGC 185\" at SkyCoord (ICRS): (ra, dec) in deg ( 9.74055,  48.3374)>,\n",
       " <FixedTarget \"NGC 147\" at SkyCoord (ICRS): (ra, dec) in deg ( 8.29995,  48.5086)>,\n",
       " <FixedTarget \"NGC 2329\" at SkyCoord (ICRS): (ra, dec) in deg ( 107.28345,  48.61562)>,\n",
       " <FixedTarget \"IC 712\" at SkyCoord (ICRS): (ra, dec) in deg ( 173.7054,  49.07776)>,\n",
       " <FixedTarget \"NGC 3870\" at SkyCoord (ICRS): (ra, dec) in deg ( 176.4858,  50.19986)>,\n",
       " <FixedTarget \"NGC 4157\" at SkyCoord (ICRS): (ra, dec) in deg ( 182.76825,  50.4849)>,\n",
       " <FixedTarget \"NGC 5457\" at SkyCoord (ICRS): (ra, dec) in deg ( 210.8025,  54.34906)>,\n",
       " <FixedTarget \"NGC 3073\" at SkyCoord (ICRS): (ra, dec) in deg ( 150.2169,  55.61892)>,\n",
       " <FixedTarget \"NGC 3556\" at SkyCoord (ICRS): (ra, dec) in deg ( 167.87895,  55.67415)>,\n",
       " <FixedTarget \"NGC 5866\" at SkyCoord (ICRS): (ra, dec) in deg ( 226.62315,  55.7633)>,\n",
       " <FixedTarget \"NGC 5907\" at SkyCoord (ICRS): (ra, dec) in deg ( 228.9735,  56.32891)>,\n",
       " <FixedTarget \"UGC 4289\" at SkyCoord (ICRS): (ra, dec) in deg ( 123.93705,  58.32084)>,\n",
       " <FixedTarget \"NGC 3610\" at SkyCoord (ICRS): (ra, dec) in deg ( 169.6053,  58.78622)>,\n",
       " <FixedTarget \"NGC 5982\" at SkyCoord (ICRS): (ra, dec) in deg ( 234.6657,  59.35589)>,\n",
       " <FixedTarget \"NGC 2768\" at SkyCoord (ICRS): (ra, dec) in deg ( 137.9061,  60.03725)>,\n",
       " <FixedTarget \"NGC 6946\" at SkyCoord (ICRS): (ra, dec) in deg ( 308.71905,  60.15377)>,\n",
       " <FixedTarget \"NGC 5322\" at SkyCoord (ICRS): (ra, dec) in deg ( 207.31335,  60.19039)>,\n",
       " <FixedTarget \"NGC 4605\" at SkyCoord (ICRS): (ra, dec) in deg ( 189.9975,  61.60903)>,\n",
       " <FixedTarget \"UGCA 92\" at SkyCoord (ICRS): (ra, dec) in deg ( 68.01465,  63.61611)>,\n",
       " <FixedTarget \"NGC 3259\" at SkyCoord (ICRS): (ra, dec) in deg ( 158.1453,  65.0411)>,\n",
       " <FixedTarget \"KKH 77\" at SkyCoord (ICRS): (ra, dec) in deg ( 183.53505,  66.09469)>,\n",
       " <FixedTarget \"UGCA 86\" at SkyCoord (ICRS): (ra, dec) in deg ( 59.9604,  67.14361)>,\n",
       " <FixedTarget \"IKN\" at SkyCoord (ICRS): (ra, dec) in deg ( 152.02485,  68.39926)>,\n",
       " <FixedTarget \"NGC 3031\" at SkyCoord (ICRS): (ra, dec) in deg ( 148.88805,  69.06544)>,\n",
       " <FixedTarget \"NGC 3348\" at SkyCoord (ICRS): (ra, dec) in deg ( 161.79165,  72.83967)>,\n",
       " <FixedTarget \"NGC 4589\" at SkyCoord (ICRS): (ra, dec) in deg ( 189.3543,  74.19186)>,\n",
       " <FixedTarget \"NGC 4291\" at SkyCoord (ICRS): (ra, dec) in deg ( 185.07375,  75.37094)>]"
      ]
     },
     "execution_count": 92,
     "metadata": {},
     "output_type": "execute_result"
    }
   ],
   "source": [
    "targets"
   ]
  },
  {
   "cell_type": "code",
   "execution_count": null,
   "metadata": {
    "collapsed": true
   },
   "outputs": [],
   "source": []
  },
  {
   "cell_type": "code",
   "execution_count": 93,
   "metadata": {},
   "outputs": [
    {
     "data": {
      "text/latex": [
       "$8.7100793 \\; \\mathrm{h}$"
      ],
      "text/plain": [
       "<Quantity 8.71007925644517 h>"
      ]
     },
     "execution_count": 93,
     "metadata": {},
     "output_type": "execute_result"
    }
   ],
   "source": [
    "reference_time = Time(\"2018-3-31 12:00:00\")\n",
    "end_time = Time(\"2018-04-01 12:00:00\")\n",
    "\n",
    "twilight_apache = apache.twilight_evening_astronomical(reference_time, which='nearest')\n",
    "twilight_end_apache = apache.twilight_morning_astronomical(reference_time, which='next')\n",
    "apache_observing_length = (twilight_end_apache - twilight_apache).to(u.h)\n",
    "apache_observing_length"
   ]
  },
  {
   "cell_type": "code",
   "execution_count": 94,
   "metadata": {},
   "outputs": [
    {
     "name": "stdout",
     "output_type": "stream",
     "text": [
      "11.044439010322096 h\n"
     ]
    },
    {
     "data": {
      "text/latex": [
       "$2.0217874 \\; \\mathrm{rad}$"
      ],
      "text/plain": [
       "<Quantity 2.0217873668494173 rad>"
      ]
     },
     "execution_count": 94,
     "metadata": {},
     "output_type": "execute_result"
    }
   ],
   "source": [
    "reference12_time = Time(\"2018-12-31 12:00:00\")\n",
    "end12_time = Time(\"2019-01-01 12:00:00\")\n",
    "\n",
    "window_range = [reference12_time, end12_time]\n",
    "window_time_grid = time_grid_from_range(window_range)\n",
    "\n",
    "twilight_12apache = apache.twilight_evening_astronomical(reference12_time, which='nearest')\n",
    "twilight_end_12apache = apache.twilight_morning_astronomical(reference12_time, which='next')\n",
    "apache_12observing_length = (twilight_end_12apache - twilight_12apache).to(u.h)\n",
    "print(apache_12observing_length)\n",
    "\n",
    "apache.moon_phase(reference12_time) #phase = 2*pi is new moon. phase = 0 is full"
   ]
  },
  {
   "cell_type": "code",
   "execution_count": 95,
   "metadata": {},
   "outputs": [
    {
     "name": "stdout",
     "output_type": "stream",
     "text": [
      "2458483.9780593943\n"
     ]
    }
   ],
   "source": [
    "apache_observing_range = [twilight_12apache, twilight_end_12apache]\n",
    "apache_observing_range\n",
    "print(apache_observing_range[0])"
   ]
  },
  {
   "cell_type": "code",
   "execution_count": 96,
   "metadata": {},
   "outputs": [
    {
     "ename": "NameError",
     "evalue": "name 'target' is not defined",
     "output_type": "error",
     "traceback": [
      "\u001b[0;31m---------------------------------------------------------------------------\u001b[0m",
      "\u001b[0;31mNameError\u001b[0m                                 Traceback (most recent call last)",
      "\u001b[0;32m<ipython-input-96-bbe9925360fb>\u001b[0m in \u001b[0;36m<module>\u001b[0;34m()\u001b[0m\n\u001b[1;32m      1\u001b[0m \u001b[0mconstraints\u001b[0m \u001b[0;34m=\u001b[0m \u001b[0;34m[\u001b[0m\u001b[0mAirmassConstraint\u001b[0m\u001b[0;34m(\u001b[0m\u001b[0;36m2\u001b[0m\u001b[0;34m)\u001b[0m\u001b[0;34m,\u001b[0m \u001b[0mMoonSeparationConstraint\u001b[0m\u001b[0;34m(\u001b[0m\u001b[0;36m35\u001b[0m\u001b[0;34m*\u001b[0m\u001b[0mu\u001b[0m\u001b[0;34m.\u001b[0m\u001b[0mdeg\u001b[0m\u001b[0;34m)\u001b[0m\u001b[0;34m]\u001b[0m\u001b[0;34m\u001b[0m\u001b[0m\n\u001b[1;32m      2\u001b[0m \u001b[0;34m\u001b[0m\u001b[0m\n\u001b[0;32m----> 3\u001b[0;31m \u001b[0mapache_observing_table\u001b[0m \u001b[0;34m=\u001b[0m \u001b[0mobservability_table\u001b[0m\u001b[0;34m(\u001b[0m\u001b[0mconstraints\u001b[0m\u001b[0;34m,\u001b[0m \u001b[0mapache\u001b[0m\u001b[0;34m,\u001b[0m \u001b[0mtarget\u001b[0m\u001b[0;34m,\u001b[0m \u001b[0mtime_range\u001b[0m\u001b[0;34m=\u001b[0m\u001b[0mapache_observing_range\u001b[0m\u001b[0;34m)\u001b[0m\u001b[0;34m\u001b[0m\u001b[0m\n\u001b[0m\u001b[1;32m      4\u001b[0m \u001b[0;34m\u001b[0m\u001b[0m\n\u001b[1;32m      5\u001b[0m \u001b[0mprint\u001b[0m\u001b[0;34m(\u001b[0m\u001b[0mapache_observing_table\u001b[0m\u001b[0;34m)\u001b[0m \u001b[0;31m#Passes moon separation constraint.\u001b[0m\u001b[0;34m\u001b[0m\u001b[0m\n",
      "\u001b[0;31mNameError\u001b[0m: name 'target' is not defined"
     ]
    }
   ],
   "source": [
    "constraints = [AirmassConstraint(2), MoonSeparationConstraint(35*u.deg)]\n",
    "\n",
    "apache_observing_table = observability_table(constraints, apache, target, time_range=apache_observing_range)\n",
    "\n",
    "print(apache_observing_table) #Passes moon separation constraint. "
   ]
  },
  {
   "cell_type": "code",
   "execution_count": null,
   "metadata": {
    "collapsed": true
   },
   "outputs": [],
   "source": [
    "fig,ax = plt.subplots(1,1)\n",
    "fig.set_size_inches(10,5)\n",
    "\n",
    "fig.tight_layout()\n",
    "\n",
    "print(twilight_12apache.datetime)\n",
    "print(twilight_end_12apache.datetime)\n",
    "\n",
    "for i, my_object in enumerate(target):\n",
    "\n",
    "    if apache_observing_table['ever observable'][i]:  # Sees true or false\n",
    "        ax = plot_airmass(my_object, apache, window_time_grid, max_airmass=2.0)\n",
    "        name = apache_observing_table['target name'][i]\n",
    "        obj_frac = apache_observing_table['fraction of time observable'][i]\n",
    "        obj_time = obj_frac * apache_observing_length\n",
    "        output = \"You can observe {0:s} for {1:.2f}\".format(name, obj_time.to(u.h))\n",
    "        print(output)\n",
    "\n",
    "ax.vlines(twilight_12apache.datetime, 1,3, color='r', linewidth=5)\n",
    "ax.vlines(twilight_end_12apache.datetime, 1,3, color='r', linewidth=5)\n",
    "\n",
    "ax.legend(loc=0,shadow=True);"
   ]
  },
  {
   "cell_type": "markdown",
   "metadata": {},
   "source": [
    "# Planetary Nebula"
   ]
  },
  {
   "cell_type": "code",
   "execution_count": 97,
   "metadata": {
    "collapsed": true
   },
   "outputs": [],
   "source": [
    "ctio = Observer(longitude = 70.804 * u.deg,\n",
    "                    latitude = -30.169 * u.deg,\n",
    "                    timezone = 'Etc/GMT+3',\n",
    "                    name = 'CTIO')"
   ]
  },
  {
   "cell_type": "code",
   "execution_count": 98,
   "metadata": {
    "collapsed": true
   },
   "outputs": [],
   "source": [
    "ic418 = [FixedTarget(coord=SkyCoord(ra = 5.45783436*u.hourangle, dec = -12.68811111*u.deg), name='IC 418')]"
   ]
  },
  {
   "cell_type": "code",
   "execution_count": 99,
   "metadata": {},
   "outputs": [
    {
     "data": {
      "text/latex": [
       "$9.5570935 \\; \\mathrm{h}$"
      ],
      "text/plain": [
       "<Quantity 9.557093549519777 h>"
      ]
     },
     "execution_count": 99,
     "metadata": {},
     "output_type": "execute_result"
    }
   ],
   "source": [
    "ctioreference_time = Time(\"2018-03-31 12:00:00\")\n",
    "ctioend_time = Time(\"2018-04-01 12:00:00\")\n",
    "\n",
    "twilight_ctio = ctio.twilight_evening_astronomical(ctioreference_time, which='nearest')\n",
    "twilight_end_ctio = ctio.twilight_morning_astronomical(ctioreference_time, which='next')\n",
    "ctio_observing_length = (twilight_end_ctio - twilight_ctio).to(u.h)\n",
    "ctio_observing_length"
   ]
  },
  {
   "cell_type": "code",
   "execution_count": 100,
   "metadata": {},
   "outputs": [
    {
     "name": "stdout",
     "output_type": "stream",
     "text": [
      "11.044439010322096 h\n"
     ]
    },
    {
     "data": {
      "text/latex": [
       "$2.0217874 \\; \\mathrm{rad}$"
      ],
      "text/plain": [
       "<Quantity 2.0217873668494173 rad>"
      ]
     },
     "execution_count": 100,
     "metadata": {},
     "output_type": "execute_result"
    }
   ],
   "source": [
    "ctioreference12_time = Time(\"2018-12-31 12:00:00\")\n",
    "ctioend12_time = Time(\"2019-01-01 12:00:00\")\n",
    "\n",
    "window_range = [ctioreference12_time, ctioend12_time]\n",
    "window_time_grid = time_grid_from_range(window_range)\n",
    "\n",
    "twilight_12ctio = apache.twilight_evening_astronomical(ctioreference12_time, which='nearest')\n",
    "twilight_end_12ctio = apache.twilight_morning_astronomical(ctioreference12_time, which='next')\n",
    "ctio_12observing_length = (twilight_end_12ctio - twilight_12ctio).to(u.h)\n",
    "print(ctio_12observing_length)\n",
    "\n",
    "ctio.moon_phase(ctioreference12_time) #phase = 2*pi is new moon. phase = 0 is full"
   ]
  },
  {
   "cell_type": "code",
   "execution_count": 101,
   "metadata": {},
   "outputs": [
    {
     "name": "stdout",
     "output_type": "stream",
     "text": [
      "2458483.9780593943\n"
     ]
    }
   ],
   "source": [
    "ctio_observing_range = [twilight_12ctio, twilight_end_12ctio]\n",
    "ctio_observing_range\n",
    "print(ctio_observing_range[0])"
   ]
  },
  {
   "cell_type": "code",
   "execution_count": 102,
   "metadata": {},
   "outputs": [
    {
     "name": "stdout",
     "output_type": "stream",
     "text": [
      "target name ever observable always observable fraction of time observable\n",
      "----------- --------------- ----------------- ---------------------------\n",
      "     IC 418            True             False              0.739130434783\n"
     ]
    }
   ],
   "source": [
    "constraints = [AirmassConstraint(2), MoonSeparationConstraint(35*u.deg)]\n",
    "\n",
    "ctio_observing_table = observability_table(constraints, ctio, ic418, time_range=apache_observing_range)\n",
    "\n",
    "print(ctio_observing_table) #Passes moon separation constraint. "
   ]
  },
  {
   "cell_type": "code",
   "execution_count": 103,
   "metadata": {},
   "outputs": [
    {
     "name": "stdout",
     "output_type": "stream",
     "text": [
      "2018-12-31 11:28:24.331666\n",
      "2018-12-31 22:31:04.312103\n",
      "You can observe IC 418 for 7.06 h\n"
     ]
    },
    {
     "data": {
      "image/png": "[encoded data removed]",
      "text/plain": [
       "<matplotlib.figure.Figure at 0x11fcea128>"
      ]
     },
     "metadata": {},
     "output_type": "display_data"
    }
   ],
   "source": [
    "fig,ax = plt.subplots(1,1)\n",
    "fig.set_size_inches(10,5)\n",
    "\n",
    "fig.tight_layout()\n",
    "\n",
    "print(twilight_12ctio.datetime)\n",
    "print(twilight_end_12ctio.datetime)\n",
    "\n",
    "for i, my_object in enumerate(ic418):\n",
    "\n",
    "    if ctio_observing_table['ever observable'][i]:  # Sees true or false\n",
    "        ax = plot_airmass(my_object, ctio, window_time_grid, max_airmass=2.0)\n",
    "        name = ctio_observing_table['target name'][i]\n",
    "        obj_frac = ctio_observing_table['fraction of time observable'][i]\n",
    "        obj_time = obj_frac * ctio_observing_length\n",
    "        output = \"You can observe {0:s} for {1:.2f}\".format(name, obj_time.to(u.h))\n",
    "        print(output)\n",
    "\n",
    "ax.vlines(twilight_12ctio.datetime, 1,3, color='r', linewidth=5)\n",
    "ax.vlines(twilight_end_12ctio.datetime, 1,3, color='r', linewidth=5)\n",
    "\n",
    "ax.legend(loc=0,shadow=True);"
   ]
  },
  {
   "cell_type": "markdown",
   "metadata": {},
   "source": [
    "# La Silla Globular Clusters"
   ]
  },
  {
   "cell_type": "code",
   "execution_count": 104,
   "metadata": {
    "collapsed": true
   },
   "outputs": [],
   "source": [
    "target_table = pd.read_csv('./globs2.csv')\n",
    "table_values = target_table.as_matrix()\n",
    "table_values\n",
    "globs = [FixedTarget(coord=SkyCoord(ra = ra*u.hourangle, dec = dec*u.deg), name=name)\n",
    "            for name, ra, dec in table_values]"
   ]
  },
  {
   "cell_type": "code",
   "execution_count": 105,
   "metadata": {
    "collapsed": true
   },
   "outputs": [],
   "source": [
    "lasilla = Observer(longitude = -29.25 * u.deg,\n",
    "                    latitude = 70.7333 * u.deg,\n",
    "                    timezone = 'Etc/GMT+3',\n",
    "                    name = 'Apache Point')"
   ]
  },
  {
   "cell_type": "code",
   "execution_count": 234,
   "metadata": {},
   "outputs": [
    {
     "name": "stdout",
     "output_type": "stream",
     "text": [
      "[<Time object: scale='utc' format='jd' value=2458407.4059906155>, <Time object: scale='utc' format='jd' value=2458407.737698787>]\n",
      "target name ever observable always observable fraction of time observable\n",
      "----------- --------------- ----------------- ---------------------------\n",
      "   NGC 2915           False             False                         0.0\n",
      "        SMC           False             False                         0.0\n",
      "    NGC 406           False             False                         0.0\n",
      "        LMC           False             False                         0.0\n",
      "   NGC 2434           False             False                         0.0\n",
      " ESO 059-01           False             False                         0.0\n",
      "    IC 5176           False             False                         0.0\n",
      "   NGC 1313           False             False                         0.0\n",
      "   PGC 6240           False             False                         0.0\n",
      "   NGC 2082           False             False                         0.0\n",
      "        ...             ...               ...                         ...\n",
      "   NGC 5322            True              True                         1.0\n",
      "   NGC 4605            True              True                         1.0\n",
      "    UGCA 92            True              True                         1.0\n",
      "   NGC 3259            True              True                         1.0\n",
      "     KKH 77            True              True                         1.0\n",
      "    UGCA 86            True              True                         1.0\n",
      "        IKN            True              True                         1.0\n",
      "   NGC 3031            True              True                         1.0\n",
      "   NGC 3348            True              True                         1.0\n",
      "   NGC 4589            True              True                         1.0\n",
      "   NGC 4291            True              True                         1.0\n",
      "Length = 421 rows\n"
     ]
    }
   ],
   "source": [
    "reference_time = Time(\"2018-10-15 12:00:00\")\n",
    "end_time = Time(\"2018-10-31 12:00:00\")\n",
    "\n",
    "window_range = [reference_time, end_time]\n",
    "window_time_grid = time_grid_from_range(window_range)\n",
    "\n",
    "twilight_lasilla = lasilla.twilight_evening_astronomical(reference_time, which='nearest')\n",
    "twilight_end_lasilla = lasilla.twilight_morning_astronomical(reference_time, which='next')\n",
    "lasilla_observing_length = (twilight_end_lasilla - twilight_lasilla).to(u.h)\n",
    "lasilla_observing_length\n",
    "\n",
    "lasilla.moon_phase(reference_time) #phase = 2*pi is new moon. phase = 0 is full\n",
    "\n",
    "lasilla_observing_range = [twilight_lasilla, twilight_end_lasilla]\n",
    "lasilla_observing_range\n",
    "print(lasilla_observing_range)\n",
    "\n",
    "constraints = [AirmassConstraint(2), MoonSeparationConstraint(35*u.deg)]\n",
    "\n",
    "lasilla_observing_table = observability_table(constraints, lasilla, globs, time_range=lasilla_observing_range)\n",
    "\n",
    "print(lasilla_observing_table) #Passes moon separation constraint. "
   ]
  },
  {
   "cell_type": "code",
   "execution_count": 206,
   "metadata": {},
   "outputs": [
    {
     "name": "stdout",
     "output_type": "stream",
     "text": [
      "[<Time object: scale='utc' format='jd' value=2458407.4059906155>, <Time object: scale='utc' format='jd' value=2458407.737698787>]\n"
     ]
    }
   ],
   "source": [
    "print(lasilla_observing_range)\n",
    "        \n",
    "#observe_time = reference_time + np.linspace(0, 336, 24)*u.hour\n",
    "delta_t = end_time - reference_time\n",
    "observe_time = reference_time + delta_t*np.linspace(0, 1, 75)"
   ]
  },
  {
   "cell_type": "code",
   "execution_count": 243,
   "metadata": {},
   "outputs": [
    {
     "data": {
      "text/plain": [
       "[<FixedTarget \"A1644 1\" at SkyCoord (ICRS): (ra, dec) in deg ( 194.2983, -17.40944)>,\n",
       " <FixedTarget \"A1689 BCG\" at SkyCoord (ICRS): (ra, dec) in deg ( 197.87295, -1.33806)>,\n",
       " <FixedTarget \"A2124 1\" at SkyCoord (ICRS): (ra, dec) in deg ( 236.2458,  36.10944)>,\n",
       " <FixedTarget \"A2147 1\" at SkyCoord (ICRS): (ra, dec) in deg ( 240.5709,  15.97472)>,\n",
       " <FixedTarget \"A2152 1\" at SkyCoord (ICRS): (ra, dec) in deg ( 241.3716,  16.43583)>,\n",
       " <FixedTarget \"A2152 2\" at SkyCoord (ICRS): (ra, dec) in deg ( 241.36005,  16.44278)>,\n",
       " <FixedTarget \"A754 1\" at SkyCoord (ICRS): (ra, dec) in deg ( 137.13495, -9.63)>,\n",
       " <FixedTarget \"A754 2\" at SkyCoord (ICRS): (ra, dec) in deg ( 137.1621, -9.62525)>,\n",
       " <FixedTarget \"CGCG 065-015\" at SkyCoord (ICRS): (ra, dec) in deg ( 155.84895,  12.83507)>,\n",
       " <FixedTarget \"CGCG 421-019\" at SkyCoord (ICRS): (ra, dec) in deg ( 79.22985,  6.55247)>,\n",
       " <FixedTarget \"DDO 52\" at SkyCoord (ICRS): (ra, dec) in deg ( 127.11855,  41.85661)>,\n",
       " <FixedTarget \"ESO 059-01\" at SkyCoord (ICRS): (ra, dec) in deg ( 112.82685, -68.18753)>,\n",
       " <FixedTarget \"ESO 118-034\" at SkyCoord (ICRS): (ra, dec) in deg ( 70.07265, -58.74419)>,\n",
       " <FixedTarget \"ESO 137-18\" at SkyCoord (ICRS): (ra, dec) in deg ( 245.2464, -60.48759)>,\n",
       " <FixedTarget \"ESO 154-023\" at SkyCoord (ICRS): (ra, dec) in deg ( 44.20905, -54.57064)>,\n",
       " <FixedTarget \"ESO 185-IG013\" at SkyCoord (ICRS): (ra, dec) in deg ( 296.25225, -54.25082)>,\n",
       " <FixedTarget \"ESO 223-09\" at SkyCoord (ICRS): (ra, dec) in deg ( 225.28575, -48.29184)>,\n",
       " <FixedTarget \"ESO 269-58\" at SkyCoord (ICRS): (ra, dec) in deg ( 197.63715, -46.99199)>,\n",
       " <FixedTarget \"ESO 269-66\" at SkyCoord (ICRS): (ra, dec) in deg ( 198.2865, -44.89)>,\n",
       " <FixedTarget \"ESO 274-01\" at SkyCoord (ICRS): (ra, dec) in deg ( 228.5559, -46.80911)>]"
      ]
     },
     "execution_count": 243,
     "metadata": {},
     "output_type": "execute_result"
    }
   ],
   "source": [
    "globs[0].name\n",
    "newlist = sorted(globs, key=lambda x: x.name, reverse=False)\n",
    "some_globs = newlist[0:20]\n",
    "some_globs"
   ]
  },
  {
   "cell_type": "code",
   "execution_count": 244,
   "metadata": {},
   "outputs": [
    {
     "name": "stdout",
     "output_type": "stream",
     "text": [
      " target name  ever observable always observable fraction of time observable\n",
      "------------- --------------- ----------------- ---------------------------\n",
      "      A1644 1           False             False                         0.0\n",
      "    A1689 BCG           False             False                         0.0\n",
      "      A2124 1            True             False                      0.1875\n",
      "      A2147 1           False             False                         0.0\n",
      "      A2152 1           False             False                         0.0\n",
      "      A2152 2           False             False                         0.0\n",
      "       A754 1           False             False                         0.0\n",
      "       A754 2           False             False                         0.0\n",
      " CGCG 065-015           False             False                         0.0\n",
      " CGCG 421-019           False             False                         0.0\n",
      "       DDO 52            True             False                       0.625\n",
      "   ESO 059-01           False             False                         0.0\n",
      "  ESO 118-034           False             False                         0.0\n",
      "   ESO 137-18           False             False                         0.0\n",
      "  ESO 154-023           False             False                         0.0\n",
      "ESO 185-IG013           False             False                         0.0\n",
      "   ESO 223-09           False             False                         0.0\n",
      "   ESO 269-58           False             False                         0.0\n",
      "   ESO 269-66           False             False                         0.0\n",
      "   ESO 274-01           False             False                         0.0\n"
     ]
    }
   ],
   "source": [
    "small_lasilla_observing_table = observability_table(constraints, lasilla, some_globs, time_range=lasilla_observing_range)\n",
    "print(small_lasilla_observing_table)"
   ]
  },
  {
   "cell_type": "code",
   "execution_count": 339,
   "metadata": {
    "scrolled": false
   },
   "outputs": [],
   "source": [
    "def find_october_observe(october_day):\n",
    "    fig,ax = plt.subplots(1,1)\n",
    "    fig.set_size_inches(10,5)\n",
    "\n",
    "    fig.tight_layout()\n",
    "\n",
    "    observe_time = Time(\"2018-10-\" + october_day + \" 23:00:00\")\n",
    "    \n",
    "    twilight_lasilla = lasilla.twilight_evening_astronomical(Time(\"2018-10-\" + october_day + \" 12:00:00\"), which='nearest')\n",
    "    twilight_end_lasilla = lasilla.twilight_morning_astronomical(Time(\"2018-10-\" + october_day + \" 12:00:00\"), which='next')\n",
    "    \n",
    "    observing_range = [twilight_lasilla, twilight_end_lasilla]\n",
    "    \n",
    "    # CONSTRAINTS: If object appears within range on graph, but is not observable, this means that the moon is too close to the object.\n",
    "    constraints = [AirmassConstraint(2), MoonSeparationConstraint(35*u.deg)]\n",
    "\n",
    "    small_lasilla_observing_table = observability_table(constraints, lasilla, some_globs, time_range=observing_range)\n",
    "    \n",
    "    print(small_lasilla_observing_table)\n",
    "    \n",
    "    for i, my_object in enumerate(some_globs):\n",
    "        if small_lasilla_observing_table['ever observable'][i]:  # Sees true or false\n",
    "            name = small_lasilla_observing_table['target name'][i]\n",
    "            obj_frac = small_lasilla_observing_table['fraction of time observable'][i]\n",
    "            obj_time = obj_frac * lasilla_observing_length\n",
    "            output = \"You can observe {0:s} for {1:.2f}\".format(name, obj_time.to(u.h))\n",
    "            print(output)\n",
    "\n",
    "    print(lasilla.moon_phase(observe_time)) # 2*pi = new moon. 0 = full moon.\n",
    "    # Moon brightness must be taken into consideration. However, we do not quantify its effect here, only the effect of separation distance\n",
    "    \n",
    "    plot_airmass(some_globs, lasilla, observe_time, max_airmass = 2)\n",
    "    \n",
    "    ax.vlines(twilight_lasilla.datetime, 1,3, color='r', linewidth=5)\n",
    "    ax.vlines(twilight_end_lasilla.datetime, 1,3, color='r', linewidth=5)\n",
    "\n",
    "    ax.legend(loc=0,shadow=True);"
   ]
  },
  {
   "cell_type": "code",
   "execution_count": null,
   "metadata": {},
   "outputs": [],
   "source": [
    "find_october_observe(\"20\")"
   ]
  },
  {
   "cell_type": "code",
   "execution_count": null,
   "metadata": {
    "collapsed": true
   },
   "outputs": [],
   "source": []
  },
  {
   "cell_type": "code",
   "execution_count": null,
   "metadata": {
    "collapsed": true
   },
   "outputs": [],
   "source": []
  }
 ],
 "metadata": {
  "kernelspec": {
   "display_name": "Python 3",
   "language": "python",
   "name": "python3"
  },
  "language_info": {
   "codemirror_mode": {
    "name": "ipython",
    "version": 3
   },
   "file_extension": ".py",
   "mimetype": "text/x-python",
   "name": "python",
   "nbconvert_exporter": "python",
   "pygments_lexer": "ipython3",
   "version": "3.6.3"
  }
 },
 "nbformat": 4,
 "nbformat_minor": 2
}
